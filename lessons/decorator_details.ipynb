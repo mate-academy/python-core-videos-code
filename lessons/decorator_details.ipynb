{
 "cells": [
  {
   "cell_type": "code",
   "execution_count": 63,
   "outputs": [
    {
     "name": "stdout",
     "output_type": "stream",
     "text": [
      "Hello\n",
      "Hello\n"
     ]
    }
   ],
   "source": [
    "def first(msg):\n",
    "    print(msg)\n",
    "\n",
    "\n",
    "first(\"Hello\")\n",
    "\n",
    "second = first\n",
    "second(\"Hello\")"
   ],
   "metadata": {
    "collapsed": false,
    "pycharm": {
     "name": "#%%\n"
    }
   }
  },
  {
   "cell_type": "code",
   "execution_count": 64,
   "outputs": [],
   "source": [
    "def inc(x):\n",
    "    return x + 1\n",
    "\n",
    "\n",
    "def dec(x):\n",
    "    return x - 1\n",
    "\n",
    "\n",
    "def operation(func, x):\n",
    "    result = func(x)\n",
    "    return result"
   ],
   "metadata": {
    "collapsed": false,
    "pycharm": {
     "name": "#%%\n"
    }
   }
  },
  {
   "cell_type": "code",
   "execution_count": 65,
   "outputs": [
    {
     "data": {
      "text/plain": "6"
     },
     "execution_count": 65,
     "metadata": {},
     "output_type": "execute_result"
    }
   ],
   "source": [
    "operation(inc, 5)"
   ],
   "metadata": {
    "collapsed": false,
    "pycharm": {
     "name": "#%%\n"
    }
   }
  },
  {
   "cell_type": "code",
   "execution_count": 66,
   "outputs": [
    {
     "data": {
      "text/plain": "4"
     },
     "execution_count": 66,
     "metadata": {},
     "output_type": "execute_result"
    }
   ],
   "source": [
    "operation(dec, 5)"
   ],
   "metadata": {
    "collapsed": false,
    "pycharm": {
     "name": "#%%\n"
    }
   }
  },
  {
   "cell_type": "code",
   "execution_count": 67,
   "outputs": [
    {
     "data": {
      "text/plain": "21"
     },
     "execution_count": 67,
     "metadata": {},
     "output_type": "execute_result"
    }
   ],
   "source": [
    "def make_multiplier_of(multiplier: int):\n",
    "\n",
    "    def multiply(num: int):\n",
    "        return multiplier * num\n",
    "\n",
    "    return multiply\n",
    "\n",
    "times3 = make_multiplier_of(3)\n",
    "\n",
    "times3(7)"
   ],
   "metadata": {
    "collapsed": false,
    "pycharm": {
     "name": "#%%\n"
    }
   }
  },
  {
   "cell_type": "code",
   "execution_count": 69,
   "outputs": [
    {
     "name": "stdout",
     "output_type": "stream",
     "text": [
      "Decorated before\n",
      "Hello!\n",
      "Decorated after\n"
     ]
    }
   ],
   "source": [
    "def decorate(func):\n",
    "    def inner():\n",
    "        print(\"Decorated before\")\n",
    "        func()\n",
    "        print(\"Decorated after\")\n",
    "\n",
    "    return inner\n",
    "\n",
    "def printer():\n",
    "    print(\"Hello!\")\n",
    "\n",
    "decorated_printer = decorate(printer)\n",
    "\n",
    "decorated_printer()"
   ],
   "metadata": {
    "collapsed": false,
    "pycharm": {
     "name": "#%%\n"
    }
   }
  },
  {
   "cell_type": "code",
   "execution_count": null,
   "outputs": [],
   "source": [
    "@decorate\n",
    "def printer():\n",
    "    print(\"Hello!\")\n",
    "\n",
    "# def printer():\n",
    "#     print(\"Hello!\")\n",
    "#\n",
    "# printer = decorate(printer)\n",
    "\n",
    "printer()"
   ],
   "metadata": {
    "collapsed": false,
    "pycharm": {
     "name": "#%%\n"
    }
   }
  },
  {
   "cell_type": "code",
   "execution_count": 84,
   "outputs": [
    {
     "name": "stdout",
     "output_type": "stream",
     "text": [
      "Elapsed: 0.5786411762237549\n",
      "Elapsed: 1.030703067779541\n",
      "Elapsed: 9.234923124313354\n"
     ]
    },
    {
     "data": {
      "text/plain": "4049999955000000"
     },
     "execution_count": 84,
     "metadata": {},
     "output_type": "execute_result"
    }
   ],
   "source": [
    "import time\n",
    "\n",
    "def timer(func):\n",
    "\n",
    "    def inner(*args, **kwargs):\n",
    "        start = time.time()\n",
    "        res = func(*args, **kwargs)\n",
    "        end = time.time()\n",
    "        print(f\"Elapsed: {end - start}\")\n",
    "        return res\n",
    "\n",
    "    return inner\n",
    "\n",
    "\n",
    "@timer\n",
    "def long_function():\n",
    "    return sum(range(50_000_000))\n",
    "\n",
    "@timer\n",
    "def very_long_function(num_of_iterations):\n",
    "    return sum(range(num_of_iterations))\n",
    "\n",
    "\n",
    "long_function()\n",
    "very_long_function(90_000_000)\n",
    "very_long_function(num_of_iterations=90_000_000)"
   ],
   "metadata": {
    "collapsed": false,
    "pycharm": {
     "name": "#%%\n"
    }
   }
  },
  {
   "cell_type": "code",
   "execution_count": 85,
   "outputs": [
    {
     "name": "stdout",
     "output_type": "stream",
     "text": [
      "Decorated before\n",
      "Elapsed: 0.5868511199951172\n",
      "Decorated after\n"
     ]
    }
   ],
   "source": [
    "@decorate\n",
    "@timer\n",
    "def long_function():\n",
    "    return sum(range(50_000_000))\n",
    "\n",
    "long_function()"
   ],
   "metadata": {
    "collapsed": false,
    "pycharm": {
     "name": "#%%\n"
    }
   }
  }
 ],
 "metadata": {
  "kernelspec": {
   "display_name": "Python 3",
   "language": "python",
   "name": "python3"
  },
  "language_info": {
   "codemirror_mode": {
    "name": "ipython",
    "version": 2
   },
   "file_extension": ".py",
   "mimetype": "text/x-python",
   "name": "python",
   "nbconvert_exporter": "python",
   "pygments_lexer": "ipython2",
   "version": "2.7.6"
  }
 },
 "nbformat": 4,
 "nbformat_minor": 0
}