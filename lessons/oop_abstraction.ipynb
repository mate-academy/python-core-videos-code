{
 "cells": [
  {
   "cell_type": "code",
   "execution_count": 57,
   "outputs": [],
   "source": [
    "# Abstraction\n",
    "\n",
    "class Cafe:\n",
    "    def __init__(self, name: str):\n",
    "        self.name = name\n",
    "        self._workers = [\"John\", \"Kate\", \"Bob\"]\n",
    "\n",
    "    def open(self):\n",
    "        print(\"Cafe is working!\")\n",
    "        self._sick_leave(\"John\")\n",
    "        self._sick_leave(\"Kate\")\n",
    "        self._skip_job(\"Bob\")\n",
    "\n",
    "        self._ask_overtime(\"Jane\")\n",
    "\n",
    "    def order_coffee(self):\n",
    "        if len(self._workers) > 0:\n",
    "            print(\"Making coffee...\")\n",
    "            print(\"Please, here you are!\")\n",
    "        else:\n",
    "            print(\"Error!\")\n",
    "\n",
    "    def _sick_leave(self, worker: str):\n",
    "        self._workers.remove(worker)\n",
    "\n",
    "    def _skip_job(self, worker: str):\n",
    "        self._workers.remove(worker)\n",
    "\n",
    "    def _ask_overtime(self, different_worker: str):\n",
    "        self._workers.append(different_worker)\n",
    "\n",
    "best_cafe = Cafe(\"The Best Ever Coffee\")"
   ],
   "metadata": {
    "collapsed": false,
    "pycharm": {
     "name": "#%%\n"
    }
   }
  },
  {
   "cell_type": "code",
   "execution_count": 58,
   "outputs": [
    {
     "name": "stdout",
     "output_type": "stream",
     "text": [
      "Cafe is working!\n"
     ]
    }
   ],
   "source": [
    "best_cafe.open()"
   ],
   "metadata": {
    "collapsed": false,
    "pycharm": {
     "name": "#%%\n"
    }
   }
  },
  {
   "cell_type": "code",
   "execution_count": 60,
   "outputs": [
    {
     "data": {
      "text/plain": "'The Best Ever Coffee'"
     },
     "execution_count": 60,
     "metadata": {},
     "output_type": "execute_result"
    }
   ],
   "source": [
    "# Customer wants to order coffee:\n",
    "best_cafe.name"
   ],
   "metadata": {
    "collapsed": false,
    "pycharm": {
     "name": "#%%\n"
    }
   }
  },
  {
   "cell_type": "code",
   "execution_count": 61,
   "outputs": [
    {
     "name": "stdout",
     "output_type": "stream",
     "text": [
      "Making coffee...\n",
      "Please, here you are!\n"
     ]
    }
   ],
   "source": [
    "best_cafe.order_coffee()"
   ],
   "metadata": {
    "collapsed": false,
    "pycharm": {
     "name": "#%%\n"
    }
   }
  }
 ],
 "metadata": {
  "kernelspec": {
   "display_name": "Python 3",
   "language": "python",
   "name": "python3"
  },
  "language_info": {
   "codemirror_mode": {
    "name": "ipython",
    "version": 2
   },
   "file_extension": ".py",
   "mimetype": "text/x-python",
   "name": "python",
   "nbconvert_exporter": "python",
   "pygments_lexer": "ipython2",
   "version": "2.7.6"
  }
 },
 "nbformat": 4,
 "nbformat_minor": 0
}