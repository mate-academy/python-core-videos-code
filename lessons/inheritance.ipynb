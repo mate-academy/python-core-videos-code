{
 "cells": [
  {
   "cell_type": "code",
   "execution_count": 12,
   "metadata": {
    "collapsed": true,
    "pycharm": {
     "name": "#%%\n"
    }
   },
   "outputs": [],
   "source": [
    "# Inheritance\n",
    "\n",
    "class Cat:\n",
    "    def eat(self):\n",
    "        print(\"I am eating\")\n",
    "\n",
    "    def sleep(self):\n",
    "        print(\"💤💤💤\")\n",
    "\n",
    "class Dog:\n",
    "    def eat(self):\n",
    "        print(\"I am eating\")\n",
    "\n",
    "    def bark(self):\n",
    "        print(\"I am barking\")"
   ]
  },
  {
   "cell_type": "code",
   "execution_count": 15,
   "outputs": [
    {
     "name": "stdout",
     "output_type": "stream",
     "text": [
      "I am eating\n",
      "I am barking\n"
     ]
    }
   ],
   "source": [
    "dog = Dog()\n",
    "dog.eat()\n",
    "dog.bark()"
   ],
   "metadata": {
    "collapsed": false,
    "pycharm": {
     "name": "#%%\n"
    }
   }
  },
  {
   "cell_type": "code",
   "execution_count": 16,
   "outputs": [
    {
     "name": "stdout",
     "output_type": "stream",
     "text": [
      "I am eating\n",
      "💤💤💤\n"
     ]
    }
   ],
   "source": [
    "cat = Cat()\n",
    "cat.eat()\n",
    "cat.sleep()"
   ],
   "metadata": {
    "collapsed": false,
    "pycharm": {
     "name": "#%%\n"
    }
   }
  },
  {
   "cell_type": "code",
   "execution_count": 17,
   "outputs": [],
   "source": [
    "class Animal:\n",
    "    def eat(self):\n",
    "        print(\"I am eating\")\n",
    "\n",
    "class Cat(Animal):\n",
    "    def sleep(self):\n",
    "        print(\"💤💤💤\")\n",
    "\n",
    "class Dog(Animal):\n",
    "    def bark(self):\n",
    "        print(\"I am barking\")"
   ],
   "metadata": {
    "collapsed": false,
    "pycharm": {
     "name": "#%%\n"
    }
   }
  },
  {
   "cell_type": "code",
   "execution_count": 18,
   "outputs": [
    {
     "name": "stdout",
     "output_type": "stream",
     "text": [
      "I am eating\n",
      "I am barking\n"
     ]
    }
   ],
   "source": [
    "dog = Dog()\n",
    "dog.eat()\n",
    "dog.bark()"
   ],
   "metadata": {
    "collapsed": false,
    "pycharm": {
     "name": "#%%\n"
    }
   }
  },
  {
   "cell_type": "code",
   "execution_count": 19,
   "outputs": [
    {
     "name": "stdout",
     "output_type": "stream",
     "text": [
      "I am eating\n",
      "💤💤💤\n"
     ]
    }
   ],
   "source": [
    "cat = Cat()\n",
    "cat.eat()\n",
    "cat.sleep()"
   ],
   "metadata": {
    "collapsed": false,
    "pycharm": {
     "name": "#%%\n"
    }
   }
  }
 ],
 "metadata": {
  "kernelspec": {
   "display_name": "Python 3",
   "language": "python",
   "name": "python3"
  },
  "language_info": {
   "codemirror_mode": {
    "name": "ipython",
    "version": 2
   },
   "file_extension": ".py",
   "mimetype": "text/x-python",
   "name": "python",
   "nbconvert_exporter": "python",
   "pygments_lexer": "ipython2",
   "version": "2.7.6"
  }
 },
 "nbformat": 4,
 "nbformat_minor": 0
}