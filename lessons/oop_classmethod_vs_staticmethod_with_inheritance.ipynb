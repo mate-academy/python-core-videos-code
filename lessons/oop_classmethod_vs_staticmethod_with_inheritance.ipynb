{
 "cells": [
  {
   "cell_type": "code",
   "execution_count": null,
   "outputs": [],
   "source": [
    "# @classmethod vs @staticmethod with Inheritance\n",
    "#\n",
    "# class Weapon:\n",
    "    def __init__(self, name: str, power: int):\n",
    "        self.name = name\n",
    "        self.power = power\n",
    "#\n",
    "#     @classmethod\n",
    "    def from_string_classmethod(cls, weapon_string: str):\n",
    "        weapon_name, weapon_power_str = weapon_string.split()\n",
    "        return cls(\n",
    "            name=weapon_name,\n",
    "            power=int(weapon_power_str),\n",
    "        )\n",
    "\n",
    "#     @staticmethod\n",
    "#     def from_string_staticmethod(weapon_string: str):\n",
    "#         weapon_name, weapon_power_str = weapon_string.split()\n",
    "#         return Weapon(\n",
    "#             name=weapon_name,\n",
    "#             power=int(weapon_power_str),\n",
    "#         )\n",
    "\n",
    "\n",
    "class Sword:\n",
    "    def __init__(self, name: str, power: int):\n",
    "        self.name = name\n",
    "        self.power = power\n",
    "\n",
    "    @staticmethod\n",
    "    def from_string(weapon_string: str):\n",
    "        weapon_name, weapon_power_str = weapon_string.split()\n",
    "        return Sword(\n",
    "            name=weapon_name,\n",
    "            power=int(weapon_power_str),\n",
    "        )\n",
    "\n",
    "\n",
    "class Gun:\n",
    "    def __init__(self, name: str, power: int):\n",
    "        self.name = name\n",
    "        self.power = power\n",
    "\n",
    "    @staticmethod\n",
    "    def from_string(weapon_string: str):\n",
    "        weapon_name, weapon_power_str = weapon_string.split()\n",
    "        return Gun(\n",
    "            name=weapon_name,\n",
    "            power=int(weapon_power_str),\n",
    "        )\n",
    "\n",
    "    weapon = \"sword\"\n",
    "\n",
    "class MachineGun(Weapon):\n",
    "    weapon = \"machine gun\""
   ],
   "metadata": {
    "collapsed": false,
    "pycharm": {
     "name": "#%%\n"
    }
   }
  },
  {
   "cell_type": "code",
   "execution_count": 13,
   "outputs": [
    {
     "name": "stdout",
     "output_type": "stream",
     "text": [
      "<class '__main__.Weapon'>\n",
      "{'name': 'weapon', 'power': 100}\n"
     ]
    }
   ],
   "source": [
    "weapon = Weapon.from_string_classmethod(\"weapon 100\")\n",
    "print(weapon.__class__)\n",
    "print(weapon.__dict__)"
   ],
   "metadata": {
    "collapsed": false,
    "pycharm": {
     "name": "#%%\n"
    }
   }
  },
  {
   "cell_type": "code",
   "execution_count": 14,
   "outputs": [
    {
     "name": "stdout",
     "output_type": "stream",
     "text": [
      "<class '__main__.Weapon'>\n",
      "{'name': 'weapon', 'power': 100}\n"
     ]
    }
   ],
   "source": [
    "weapon = Weapon.from_string_staticmethod(\"weapon 100\")\n",
    "print(weapon.__class__)\n",
    "print(weapon.__dict__)"
   ],
   "metadata": {
    "collapsed": false,
    "pycharm": {
     "name": "#%%\n"
    }
   }
  },
  {
   "cell_type": "code",
   "execution_count": 15,
   "outputs": [
    {
     "name": "stdout",
     "output_type": "stream",
     "text": [
      "<class '__main__.Sword'>\n",
      "{'name': 'sword', 'power': 500}\n"
     ]
    },
    {
     "data": {
      "text/plain": "'sword'"
     },
     "execution_count": 15,
     "metadata": {},
     "output_type": "execute_result"
    }
   ],
   "source": [
    "sword = Sword.from_string_classmethod(\"sword 500\")\n",
    "print(sword.__class__)\n",
    "print(sword.__dict__)\n",
    "sword.weapon"
   ],
   "metadata": {
    "collapsed": false,
    "pycharm": {
     "name": "#%%\n"
    }
   }
  },
  {
   "cell_type": "code",
   "execution_count": 16,
   "outputs": [
    {
     "name": "stdout",
     "output_type": "stream",
     "text": [
      "<class '__main__.Weapon'>\n",
      "{'name': 'sword', 'power': 500}\n"
     ]
    },
    {
     "ename": "AttributeError",
     "evalue": "'Weapon' object has no attribute 'weapon'",
     "output_type": "error",
     "traceback": [
      "\u001B[0;31m---------------------------------------------------------------------------\u001B[0m",
      "\u001B[0;31mAttributeError\u001B[0m                            Traceback (most recent call last)",
      "\u001B[0;32m/var/folders/vz/0zmy1yvx26bf7m3jtclhl9_40000gn/T/ipykernel_7019/3263355126.py\u001B[0m in \u001B[0;36m<module>\u001B[0;34m\u001B[0m\n\u001B[1;32m      2\u001B[0m \u001B[0mprint\u001B[0m\u001B[0;34m(\u001B[0m\u001B[0msword\u001B[0m\u001B[0;34m.\u001B[0m\u001B[0m__class__\u001B[0m\u001B[0;34m)\u001B[0m\u001B[0;34m\u001B[0m\u001B[0;34m\u001B[0m\u001B[0m\n\u001B[1;32m      3\u001B[0m \u001B[0mprint\u001B[0m\u001B[0;34m(\u001B[0m\u001B[0msword\u001B[0m\u001B[0;34m.\u001B[0m\u001B[0m__dict__\u001B[0m\u001B[0;34m)\u001B[0m\u001B[0;34m\u001B[0m\u001B[0;34m\u001B[0m\u001B[0m\n\u001B[0;32m----> 4\u001B[0;31m \u001B[0msword\u001B[0m\u001B[0;34m.\u001B[0m\u001B[0mweapon\u001B[0m\u001B[0;34m\u001B[0m\u001B[0;34m\u001B[0m\u001B[0m\n\u001B[0m",
      "\u001B[0;31mAttributeError\u001B[0m: 'Weapon' object has no attribute 'weapon'"
     ]
    }
   ],
   "source": [
    "sword = Sword.from_string_staticmethod(\"sword 500\")\n",
    "print(sword.__class__)\n",
    "print(sword.__dict__)\n",
    "sword.weapon"
   ],
   "metadata": {
    "collapsed": false,
    "pycharm": {
     "name": "#%%\n"
    }
   }
  }
 ],
 "metadata": {
  "kernelspec": {
   "display_name": "Python 3",
   "language": "python",
   "name": "python3"
  },
  "language_info": {
   "codemirror_mode": {
    "name": "ipython",
    "version": 2
   },
   "file_extension": ".py",
   "mimetype": "text/x-python",
   "name": "python",
   "nbconvert_exporter": "python",
   "pygments_lexer": "ipython2",
   "version": "2.7.6"
  }
 },
 "nbformat": 4,
 "nbformat_minor": 0
}