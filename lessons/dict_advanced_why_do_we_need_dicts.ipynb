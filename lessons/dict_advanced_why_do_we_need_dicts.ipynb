{
 "cells": [
  {
   "cell_type": "code",
   "execution_count": 155,
   "outputs": [
    {
     "data": {
      "text/plain": "3"
     },
     "execution_count": 155,
     "metadata": {},
     "output_type": "execute_result"
    }
   ],
   "source": [
    "# O(N)\n",
    "def find_position(ls: list, to_find: int):\n",
    "    return ls.index(to_find)  # O(N)\n",
    "\n",
    "find_position([1, 2, 3, 4, 5], 4)"
   ],
   "metadata": {
    "collapsed": false,
    "pycharm": {
     "name": "#%%\n"
    }
   }
  },
  {
   "cell_type": "code",
   "execution_count": 156,
   "outputs": [
    {
     "data": {
      "text/plain": "'Oslo'"
     },
     "execution_count": 156,
     "metadata": {},
     "output_type": "execute_result"
    }
   ],
   "source": [
    "countries = [\n",
    "    [\"England\", \"London\"],\n",
    "    [\"Germany\", \"Berlin\"],\n",
    "    [\"Norway\", \"Oslo\"],\n",
    "    [\"Ukraine\", \"Kyiv\"]\n",
    "]\n",
    "\n",
    "# Complexity O(N)\n",
    "def get_capital_by_country(country_list: list, country_to_find: str):\n",
    "    for (country_name, capital_name) in country_list:\n",
    "        if country_name == country_to_find:\n",
    "            return capital_name\n",
    "\n",
    "    return \"Unknown\"\n",
    "\n",
    "get_capital_by_country(countries, \"Norway\")"
   ],
   "metadata": {
    "collapsed": false,
    "pycharm": {
     "name": "#%%\n"
    }
   }
  },
  {
   "cell_type": "code",
   "execution_count": 157,
   "outputs": [
    {
     "data": {
      "text/plain": "'Oslo'"
     },
     "execution_count": 157,
     "metadata": {},
     "output_type": "execute_result"
    }
   ],
   "source": [
    "countries_dict = {\n",
    "    \"England\": \"London\",\n",
    "    \"Germany\": \"Berlin\",\n",
    "    \"Norway\": \"Oslo\",\n",
    "    \"Ukraine\": \"Kyiv\",\n",
    "}\n",
    "\n",
    "# Complexity O(1)\n",
    "countries_dict[\"Norway\"]"
   ],
   "metadata": {
    "collapsed": false,
    "pycharm": {
     "name": "#%%\n"
    }
   }
  },
  {
   "cell_type": "code",
   "execution_count": 158,
   "outputs": [
    {
     "name": "stdout",
     "output_type": "stream",
     "text": [
      "Elapsed: 2.2681987285614014 second\n"
     ]
    }
   ],
   "source": [
    "import time\n",
    "\n",
    "start = time.time()\n",
    "\n",
    "for _ in range(10_000_000):\n",
    "    res = get_capital_by_country(countries, \"Norway\")\n",
    "\n",
    "print(\"Elapsed:\", time.time() - start, \"second\")"
   ],
   "metadata": {
    "collapsed": false,
    "pycharm": {
     "name": "#%%\n"
    }
   }
  },
  {
   "cell_type": "code",
   "execution_count": 160,
   "outputs": [
    {
     "name": "stdout",
     "output_type": "stream",
     "text": [
      "Elapsed: 0.6103260517120361 second\n"
     ]
    }
   ],
   "source": [
    "import time\n",
    "\n",
    "start = time.time()\n",
    "\n",
    "for _ in range(10_000_000):\n",
    "    res = countries_dict[\"Norway\"]\n",
    "\n",
    "print(\"Elapsed:\", time.time() - start, \"second\")"
   ],
   "metadata": {
    "collapsed": false,
    "pycharm": {
     "name": "#%%\n"
    }
   }
  }
 ],
 "metadata": {
  "kernelspec": {
   "display_name": "Python 3",
   "language": "python",
   "name": "python3"
  },
  "language_info": {
   "codemirror_mode": {
    "name": "ipython",
    "version": 2
   },
   "file_extension": ".py",
   "mimetype": "text/x-python",
   "name": "python",
   "nbconvert_exporter": "python",
   "pygments_lexer": "ipython2",
   "version": "2.7.6"
  }
 },
 "nbformat": 4,
 "nbformat_minor": 0
}