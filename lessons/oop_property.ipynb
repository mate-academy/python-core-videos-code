{
 "cells": [
  {
   "cell_type": "code",
   "execution_count": 27,
   "outputs": [],
   "source": [
    "class GlassOfWater:\n",
    "    def __init__(self, temperature: int):\n",
    "        self.temperature = temperature\n",
    "\n",
    "glass = GlassOfWater(temperature=20)"
   ],
   "metadata": {
    "collapsed": false,
    "pycharm": {
     "name": "#%%\n"
    }
   }
  },
  {
   "cell_type": "code",
   "execution_count": 28,
   "outputs": [
    {
     "data": {
      "text/plain": "10000"
     },
     "execution_count": 28,
     "metadata": {},
     "output_type": "execute_result"
    }
   ],
   "source": [
    "# day1\n",
    "glass.temperature = 15\n",
    "# day2\n",
    "glass.temperature = 25\n",
    "# day3\n",
    "glass.temperature = 22\n",
    "# day4\n",
    "glass.temperature = 21\n",
    "# cheater\n",
    "glass.temperature = 10000  # not realistic\n",
    "\n",
    "glass.temperature"
   ],
   "metadata": {
    "collapsed": false,
    "pycharm": {
     "name": "#%%\n"
    }
   }
  },
  {
   "cell_type": "code",
   "execution_count": 36,
   "outputs": [],
   "source": [
    "# water temperature should be between 0 and 100\n",
    "\n",
    "class GlassOfWater:\n",
    "    def __init__(self, temperature: int):\n",
    "        self._temperature = temperature  # protected\n",
    "\n",
    "    # temperature = property(temperature)\n",
    "    @property\n",
    "    def temperature(self):\n",
    "        print(\"get temperature\")\n",
    "        return self._temperature\n",
    "\n",
    "    @temperature.setter\n",
    "    def temperature(self, temperature: int):\n",
    "        print(\"set temperature\")\n",
    "        if not (0 <= temperature <= 100):\n",
    "            print(\"Temperature must be in range 0..100!\")\n",
    "            return\n",
    "        self._temperature = temperature\n",
    "\n",
    "    # temperature = property(get_temperature, set_temperature)\n",
    "\n",
    "glass = GlassOfWater(temperature=20)"
   ],
   "metadata": {
    "collapsed": false,
    "pycharm": {
     "name": "#%%\n"
    }
   }
  },
  {
   "cell_type": "code",
   "execution_count": 37,
   "outputs": [
    {
     "name": "stdout",
     "output_type": "stream",
     "text": [
      "set temperature\n",
      "set temperature\n",
      "set temperature\n",
      "set temperature\n",
      "Temperature must be in range 0..100!\n",
      "get temperature\n",
      "22\n"
     ]
    }
   ],
   "source": [
    "# day1\n",
    "glass.temperature = 15\n",
    "# day2\n",
    "glass.temperature = 25\n",
    "# day3\n",
    "glass.temperature = 22\n",
    "# day4\n",
    "glass.temperature = 10000\n",
    "print(glass.temperature)"
   ],
   "metadata": {
    "collapsed": false,
    "pycharm": {
     "name": "#%%\n"
    }
   }
  }
 ],
 "metadata": {
  "kernelspec": {
   "display_name": "Python 3",
   "language": "python",
   "name": "python3"
  },
  "language_info": {
   "codemirror_mode": {
    "name": "ipython",
    "version": 2
   },
   "file_extension": ".py",
   "mimetype": "text/x-python",
   "name": "python",
   "nbconvert_exporter": "python",
   "pygments_lexer": "ipython2",
   "version": "2.7.6"
  }
 },
 "nbformat": 4,
 "nbformat_minor": 0
}