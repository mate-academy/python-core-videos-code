{
 "cells": [
  {
   "cell_type": "code",
   "execution_count": null,
   "outputs": [],
   "source": [
    "# Algorithms complexity"
   ],
   "metadata": {
    "collapsed": false,
    "pycharm": {
     "name": "#%%\n"
    }
   }
  },
  {
   "cell_type": "code",
   "execution_count": null,
   "outputs": [],
   "source": [
    "# f(n) = C - количество операций не зависит от размера входных данных\n",
    "# f(n) = a*n + b - линейная функция\n",
    "# f(n) = a*n^2 + b*n + c - квадратическая функция"
   ],
   "metadata": {
    "collapsed": false,
    "pycharm": {
     "name": "#%%\n"
    }
   }
  },
  {
   "cell_type": "code",
   "execution_count": null,
   "outputs": [],
   "source": [
    "# O(N^2) - big \"O\" notation"
   ],
   "metadata": {
    "collapsed": false,
    "pycharm": {
     "name": "#%%\n"
    }
   }
  },
  {
   "cell_type": "code",
   "execution_count": null,
   "outputs": [],
   "source": [
    "# 2 * O(1) = O(1)\n",
    "def add(a:int, b: int):\n",
    "    sum_ = a + b  # O(1)\n",
    "    print(sum_)  # O(1)\n",
    "    return sum_"
   ],
   "metadata": {
    "collapsed": false,
    "pycharm": {
     "name": "#%%\n"
    }
   }
  },
  {
   "cell_type": "code",
   "execution_count": 82,
   "outputs": [
    {
     "name": "stdout",
     "output_type": "stream",
     "text": [
      "1\n",
      "2\n",
      "3\n",
      "4\n"
     ]
    }
   ],
   "source": [
    "# O(N) - linear\n",
    "def print_list(ls: list):\n",
    "    for element in ls:\n",
    "        print(element)  # O(1)\n",
    "\n",
    "numbers = [1, 2, 3, 4]  # O(N)\n",
    "print_list(numbers)"
   ],
   "metadata": {
    "collapsed": false,
    "pycharm": {
     "name": "#%%\n"
    }
   }
  },
  {
   "cell_type": "code",
   "execution_count": 83,
   "outputs": [
    {
     "name": "stdout",
     "output_type": "stream",
     "text": [
      "1\n",
      "2\n",
      "3\n",
      "4\n"
     ]
    }
   ],
   "source": [
    "from typing import List\n",
    "\n",
    "# O(n^2)\n",
    "def print_matrix(matrix: List[List[int]]):\n",
    "    n = len(matrix)\n",
    "    for i in range(n):  # O(n)\n",
    "        for j in range(n):  # O(n)\n",
    "            print(matrix[i][j])\n",
    "\n",
    "\n",
    "first = [[1]]\n",
    "second = [[1, 2], [3, 4]]  # 2 * 2\n",
    "third = [[1, 2, 3], [4, 5, 6], [7, 8, 9]]  # 3 * 3\n",
    "print_matrix(second)"
   ],
   "metadata": {
    "collapsed": false,
    "pycharm": {
     "name": "#%%\n"
    }
   }
  },
  {
   "cell_type": "code",
   "execution_count": 86,
   "outputs": [
    {
     "data": {
      "text/plain": "-1"
     },
     "execution_count": 86,
     "metadata": {},
     "output_type": "execute_result"
    }
   ],
   "source": [
    "def find_position(ls: list, to_find: int):\n",
    "    for index, element in enumerate(ls):\n",
    "        if element == to_find:  # O(1)\n",
    "            return index\n",
    "\n",
    "    return -1\n",
    "\n",
    "find_position([1, 2, 3, 4, 5], 1)  # O(1)\n",
    "find_position([1, 2, 3, 4, 5], 7)  # O(n)  # O(n)"
   ],
   "metadata": {
    "collapsed": false,
    "pycharm": {
     "name": "#%%\n"
    }
   }
  },
  {
   "cell_type": "code",
   "execution_count": null,
   "outputs": [],
   "source": [
    "# Optimize your code"
   ],
   "metadata": {
    "collapsed": false,
    "pycharm": {
     "name": "#%%\n"
    }
   }
  },
  {
   "cell_type": "code",
   "execution_count": 88,
   "outputs": [
    {
     "name": "stdout",
     "output_type": "stream",
     "text": [
      "0.03839898109436035\n"
     ]
    }
   ],
   "source": [
    "import time\n",
    "start = time.time()\n",
    "for _ in range(1000_000):\n",
    "    a = 3\n",
    "\n",
    "print(time.time() - start)"
   ],
   "metadata": {
    "collapsed": false,
    "pycharm": {
     "name": "#%%\n"
    }
   }
  }
 ],
 "metadata": {
  "kernelspec": {
   "display_name": "Python 3",
   "language": "python",
   "name": "python3"
  },
  "language_info": {
   "codemirror_mode": {
    "name": "ipython",
    "version": 2
   },
   "file_extension": ".py",
   "mimetype": "text/x-python",
   "name": "python",
   "nbconvert_exporter": "python",
   "pygments_lexer": "ipython2",
   "version": "2.7.6"
  }
 },
 "nbformat": 4,
 "nbformat_minor": 0
}