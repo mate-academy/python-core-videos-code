{
 "cells": [
  {
   "cell_type": "code",
   "execution_count": 31,
   "outputs": [
    {
     "name": "stdout",
     "output_type": "stream",
     "text": [
      "elements = 1 size = 232\n",
      "elements = 2 size = 232\n",
      "elements = 3 size = 232\n",
      "elements = 4 size = 232\n",
      "elements = 5 size = 232\n",
      "elements = 6 size = 360\n",
      "elements = 7 size = 360\n",
      "elements = 8 size = 360\n",
      "elements = 9 size = 360\n",
      "elements = 10 size = 360\n",
      "elements = 11 size = 640\n",
      "elements = 12 size = 640\n",
      "elements = 13 size = 640\n",
      "elements = 14 size = 640\n",
      "elements = 15 size = 640\n",
      "elements = 16 size = 640\n",
      "elements = 17 size = 640\n",
      "elements = 18 size = 640\n",
      "elements = 19 size = 640\n",
      "elements = 20 size = 640\n"
     ]
    }
   ],
   "source": [
    "import sys\n",
    "\n",
    "my_dict = {}  # SIZE\n",
    "\n",
    "CAPACITY = 8\n",
    "for i in range(20):  # if 2/3 full - CAPACITY = CAPACITY * 2\n",
    "    my_dict[i] = 100\n",
    "    print(f\"elements = {i+1} size = {sys.getsizeof(my_dict)}\")"
   ],
   "metadata": {
    "collapsed": false,
    "pycharm": {
     "name": "#%%\n"
    }
   }
  },
  {
   "cell_type": "code",
   "execution_count": 33,
   "outputs": [
    {
     "data": {
      "text/plain": "6"
     },
     "execution_count": 33,
     "metadata": {},
     "output_type": "execute_result"
    }
   ],
   "source": [
    "int(8 * (2 / 3)) + 1  # THRESHOLD 6"
   ],
   "metadata": {
    "collapsed": false,
    "pycharm": {
     "name": "#%%\n"
    }
   }
  },
  {
   "cell_type": "code",
   "execution_count": 32,
   "outputs": [
    {
     "data": {
      "text/plain": "11"
     },
     "execution_count": 32,
     "metadata": {},
     "output_type": "execute_result"
    }
   ],
   "source": [
    "int(16 * (2 / 3)) + 1  # THRESHOLD 11"
   ],
   "metadata": {
    "collapsed": false,
    "pycharm": {
     "name": "#%%\n"
    }
   }
  },
  {
   "cell_type": "code",
   "execution_count": 34,
   "outputs": [
    {
     "data": {
      "text/plain": "232"
     },
     "execution_count": 34,
     "metadata": {},
     "output_type": "execute_result"
    }
   ],
   "source": [
    "flats = {\n",
    "    17: \"John\",\n",
    "    8: \"Bob\",\n",
    "    35: \"Alice\",\n",
    "    43: \"Tania\",\n",
    "    56: \"Bohdan\",\n",
    "}\n",
    "\n",
    "sys.getsizeof(flats)"
   ],
   "metadata": {
    "collapsed": false,
    "pycharm": {
     "name": "#%%\n"
    }
   }
  },
  {
   "cell_type": "code",
   "execution_count": 35,
   "outputs": [
    {
     "data": {
      "text/plain": "360"
     },
     "execution_count": 35,
     "metadata": {},
     "output_type": "execute_result"
    }
   ],
   "source": [
    "flats.update({\n",
    "    62: \"Artem\",\n",
    "    77: \"Roman\",\n",
    "    89: \"Anna\",\n",
    "})\n",
    "\n",
    "sys.getsizeof(flats)"
   ],
   "metadata": {
    "collapsed": false,
    "pycharm": {
     "name": "#%%\n"
    }
   }
  }
 ],
 "metadata": {
  "kernelspec": {
   "display_name": "Python 3",
   "language": "python",
   "name": "python3"
  },
  "language_info": {
   "codemirror_mode": {
    "name": "ipython",
    "version": 2
   },
   "file_extension": ".py",
   "mimetype": "text/x-python",
   "name": "python",
   "nbconvert_exporter": "python",
   "pygments_lexer": "ipython2",
   "version": "2.7.6"
  }
 },
 "nbformat": 4,
 "nbformat_minor": 0
}