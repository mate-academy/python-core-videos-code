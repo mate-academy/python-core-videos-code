{
 "cells": [
  {
   "cell_type": "code",
   "execution_count": 40,
   "outputs": [],
   "source": [
    "class IncorrectDataError(ValueError):\n",
    "    \"\"\"Exception, which will be raised, if incorrect data is passed\"\"\"\n",
    "\n",
    "class EmptyNameError(IncorrectDataError):\n",
    "    \"\"\"Exception if name is an empty string\"\"\"\n",
    "\n",
    "class NegativeAgeError(IncorrectDataError):\n",
    "    \"\"\"Exception if age < 0\"\"\"\n",
    "\n",
    "class NicknameNotProvidedError(IncorrectDataError):\n",
    "    \"\"\"Exception if `nickname` is not provided\"\"\"\n",
    "\n",
    "def user_info(user: dict):\n",
    "    if len(user[\"name\"]) == 0:\n",
    "        raise EmptyNameError(\"Name cannot be empty.\")\n",
    "\n",
    "    if user[\"age\"] < 0:\n",
    "        raise NegativeAgeError(\"Age must be >= 0.\")\n",
    "\n",
    "    if \"nickname\" not in user:\n",
    "        raise NicknameNotProvidedError(\"Key `nickname` must be provided.\")\n",
    "\n",
    "    return f\"{user['nickname']} - {user['name']} (age: {user['age']})\""
   ],
   "metadata": {
    "collapsed": false,
    "pycharm": {
     "name": "#%%\n"
    }
   }
  },
  {
   "cell_type": "code",
   "execution_count": 48,
   "outputs": [
    {
     "name": "stdout",
     "output_type": "stream",
     "text": [
      "Please, fix your data! Error: Name cannot be empty.\n"
     ]
    }
   ],
   "source": [
    "try:\n",
    "    print(user_info({\n",
    "        \"name\": \"\",\n",
    "        \"age\": 25,\n",
    "        \"nickname\": \"johnny_005\"\n",
    "    }))\n",
    "except NicknameNotProvidedError:\n",
    "    print(\"You must select nickname first!\")\n",
    "except IncorrectDataError as e:\n",
    "    print(f\"Please, fix your data! Error: {e}\")"
   ],
   "metadata": {
    "collapsed": false,
    "pycharm": {
     "name": "#%%\n"
    }
   }
  },
  {
   "cell_type": "code",
   "execution_count": 54,
   "outputs": [
    {
     "name": "stdout",
     "output_type": "stream",
     "text": [
      "Here - all other kind of errors\n",
      "list indices must be integers or slices, not str\n"
     ]
    }
   ],
   "source": [
    "try:\n",
    "    print(user_info([]))\n",
    "except NegativeAgeError:\n",
    "    print(\"Here will be caught age error\")\n",
    "except NicknameNotProvidedError:\n",
    "    print(\"Here - nickname error\")\n",
    "except IncorrectDataError as e:\n",
    "    print(\"Here only empty name error\")\n",
    "except Exception as e:\n",
    "    print(\"Here - all other kind of errors\")\n",
    "    print(e)"
   ],
   "metadata": {
    "collapsed": false,
    "pycharm": {
     "name": "#%%\n"
    }
   }
  }
 ],
 "metadata": {
  "kernelspec": {
   "display_name": "Python 3",
   "language": "python",
   "name": "python3"
  },
  "language_info": {
   "codemirror_mode": {
    "name": "ipython",
    "version": 2
   },
   "file_extension": ".py",
   "mimetype": "text/x-python",
   "name": "python",
   "nbconvert_exporter": "python",
   "pygments_lexer": "ipython2",
   "version": "2.7.6"
  }
 },
 "nbformat": 4,
 "nbformat_minor": 0
}