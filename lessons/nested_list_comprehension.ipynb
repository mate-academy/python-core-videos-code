{
 "cells": [
  {
   "cell_type": "code",
   "execution_count": 1,
   "outputs": [],
   "source": [
    "# Add course \"Python\" to all students\n",
    "student_groups = [\n",
    "    [\"Anna\", \"John\", \"Liza\", \"Vlad\"],\n",
    "    [\"Mike\", \"April\", \"Bob\", \"Alice\"],\n",
    "    [\"Alex\"]\n",
    "]"
   ],
   "metadata": {
    "collapsed": false,
    "pycharm": {
     "name": "#%%\n"
    }
   }
  },
  {
   "cell_type": "code",
   "execution_count": 2,
   "outputs": [
    {
     "data": {
      "text/plain": "[['Anna - Python', 'John - Python', 'Liza - Python', 'Vlad - Python'],\n ['Mike - Python', 'April - Python', 'Bob - Python', 'Alice - Python'],\n ['Alex - Python']]"
     },
     "execution_count": 2,
     "metadata": {},
     "output_type": "execute_result"
    }
   ],
   "source": [
    "new_group_list = []\n",
    "\n",
    "for group in student_groups:\n",
    "    new_group = []\n",
    "\n",
    "    for student in group:\n",
    "        new_group.append(student + \" - Python\")\n",
    "\n",
    "    new_group_list.append(new_group)\n",
    "\n",
    "new_group_list"
   ],
   "metadata": {
    "collapsed": false,
    "pycharm": {
     "name": "#%%\n"
    }
   }
  },
  {
   "cell_type": "code",
   "execution_count": 3,
   "outputs": [
    {
     "data": {
      "text/plain": "[['Anna - Python', 'John - Python', 'Liza - Python', 'Vlad - Python'],\n ['Mike - Python', 'April - Python', 'Bob - Python', 'Alice - Python'],\n ['Alex - Python']]"
     },
     "execution_count": 3,
     "metadata": {},
     "output_type": "execute_result"
    }
   ],
   "source": [
    "new_group_list = []\n",
    "\n",
    "for group in student_groups:\n",
    "    new_group_list.append(\n",
    "        [student + \" - Python\" for student in group]\n",
    "    )\n",
    "\n",
    "new_group_list"
   ],
   "metadata": {
    "collapsed": false,
    "pycharm": {
     "name": "#%%\n"
    }
   }
  },
  {
   "cell_type": "code",
   "execution_count": 5,
   "outputs": [
    {
     "data": {
      "text/plain": "[[['Anna - Python', 'John - Python', 'Liza - Python', 'Vlad - Python'],\n  ['Mike - Python', 'April - Python', 'Bob - Python', 'Alice - Python'],\n  ['Alex - Python']],\n [['Anna - Python', 'John - Python', 'Liza - Python', 'Vlad - Python'],\n  ['Mike - Python', 'April - Python', 'Bob - Python', 'Alice - Python'],\n  ['Alex - Python']],\n [['Anna - Python', 'John - Python', 'Liza - Python', 'Vlad - Python'],\n  ['Mike - Python', 'April - Python', 'Bob - Python', 'Alice - Python'],\n  ['Alex - Python']],\n [['Anna - Python', 'John - Python', 'Liza - Python', 'Vlad - Python'],\n  ['Mike - Python', 'April - Python', 'Bob - Python', 'Alice - Python'],\n  ['Alex - Python']],\n [['Anna - Python', 'John - Python', 'Liza - Python', 'Vlad - Python'],\n  ['Mike - Python', 'April - Python', 'Bob - Python', 'Alice - Python'],\n  ['Alex - Python']],\n [['Anna - Python', 'John - Python', 'Liza - Python', 'Vlad - Python'],\n  ['Mike - Python', 'April - Python', 'Bob - Python', 'Alice - Python'],\n  ['Alex - Python']],\n [['Anna - Python', 'John - Python', 'Liza - Python', 'Vlad - Python'],\n  ['Mike - Python', 'April - Python', 'Bob - Python', 'Alice - Python'],\n  ['Alex - Python']],\n [['Anna - Python', 'John - Python', 'Liza - Python', 'Vlad - Python'],\n  ['Mike - Python', 'April - Python', 'Bob - Python', 'Alice - Python'],\n  ['Alex - Python']],\n [['Anna - Python', 'John - Python', 'Liza - Python', 'Vlad - Python'],\n  ['Mike - Python', 'April - Python', 'Bob - Python', 'Alice - Python'],\n  ['Alex - Python']],\n [['Anna - Python', 'John - Python', 'Liza - Python', 'Vlad - Python'],\n  ['Mike - Python', 'April - Python', 'Bob - Python', 'Alice - Python'],\n  ['Alex - Python']],\n [['Anna - Python', 'John - Python', 'Liza - Python', 'Vlad - Python'],\n  ['Mike - Python', 'April - Python', 'Bob - Python', 'Alice - Python'],\n  ['Alex - Python']],\n [['Anna - Python', 'John - Python', 'Liza - Python', 'Vlad - Python'],\n  ['Mike - Python', 'April - Python', 'Bob - Python', 'Alice - Python'],\n  ['Alex - Python']],\n [['Anna - Python', 'John - Python', 'Liza - Python', 'Vlad - Python'],\n  ['Mike - Python', 'April - Python', 'Bob - Python', 'Alice - Python'],\n  ['Alex - Python']],\n [['Anna - Python', 'John - Python', 'Liza - Python', 'Vlad - Python'],\n  ['Mike - Python', 'April - Python', 'Bob - Python', 'Alice - Python'],\n  ['Alex - Python']],\n [['Anna - Python', 'John - Python', 'Liza - Python', 'Vlad - Python'],\n  ['Mike - Python', 'April - Python', 'Bob - Python', 'Alice - Python'],\n  ['Alex - Python']],\n [['Anna - Python', 'John - Python', 'Liza - Python', 'Vlad - Python'],\n  ['Mike - Python', 'April - Python', 'Bob - Python', 'Alice - Python'],\n  ['Alex - Python']],\n [['Anna - Python', 'John - Python', 'Liza - Python', 'Vlad - Python'],\n  ['Mike - Python', 'April - Python', 'Bob - Python', 'Alice - Python'],\n  ['Alex - Python']],\n [['Anna - Python', 'John - Python', 'Liza - Python', 'Vlad - Python'],\n  ['Mike - Python', 'April - Python', 'Bob - Python', 'Alice - Python'],\n  ['Alex - Python']],\n [['Anna - Python', 'John - Python', 'Liza - Python', 'Vlad - Python'],\n  ['Mike - Python', 'April - Python', 'Bob - Python', 'Alice - Python'],\n  ['Alex - Python']],\n [['Anna - Python', 'John - Python', 'Liza - Python', 'Vlad - Python'],\n  ['Mike - Python', 'April - Python', 'Bob - Python', 'Alice - Python'],\n  ['Alex - Python']],\n [['Anna - Python', 'John - Python', 'Liza - Python', 'Vlad - Python'],\n  ['Mike - Python', 'April - Python', 'Bob - Python', 'Alice - Python'],\n  ['Alex - Python']],\n [['Anna - Python', 'John - Python', 'Liza - Python', 'Vlad - Python'],\n  ['Mike - Python', 'April - Python', 'Bob - Python', 'Alice - Python'],\n  ['Alex - Python']],\n [['Anna - Python', 'John - Python', 'Liza - Python', 'Vlad - Python'],\n  ['Mike - Python', 'April - Python', 'Bob - Python', 'Alice - Python'],\n  ['Alex - Python']],\n [['Anna - Python', 'John - Python', 'Liza - Python', 'Vlad - Python'],\n  ['Mike - Python', 'April - Python', 'Bob - Python', 'Alice - Python'],\n  ['Alex - Python']],\n [['Anna - Python', 'John - Python', 'Liza - Python', 'Vlad - Python'],\n  ['Mike - Python', 'April - Python', 'Bob - Python', 'Alice - Python'],\n  ['Alex - Python']],\n [['Anna - Python', 'John - Python', 'Liza - Python', 'Vlad - Python'],\n  ['Mike - Python', 'April - Python', 'Bob - Python', 'Alice - Python'],\n  ['Alex - Python']],\n [['Anna - Python', 'John - Python', 'Liza - Python', 'Vlad - Python'],\n  ['Mike - Python', 'April - Python', 'Bob - Python', 'Alice - Python'],\n  ['Alex - Python']],\n [['Anna - Python', 'John - Python', 'Liza - Python', 'Vlad - Python'],\n  ['Mike - Python', 'April - Python', 'Bob - Python', 'Alice - Python'],\n  ['Alex - Python']],\n [['Anna - Python', 'John - Python', 'Liza - Python', 'Vlad - Python'],\n  ['Mike - Python', 'April - Python', 'Bob - Python', 'Alice - Python'],\n  ['Alex - Python']],\n [['Anna - Python', 'John - Python', 'Liza - Python', 'Vlad - Python'],\n  ['Mike - Python', 'April - Python', 'Bob - Python', 'Alice - Python'],\n  ['Alex - Python']],\n [['Anna - Python', 'John - Python', 'Liza - Python', 'Vlad - Python'],\n  ['Mike - Python', 'April - Python', 'Bob - Python', 'Alice - Python'],\n  ['Alex - Python']],\n [['Anna - Python', 'John - Python', 'Liza - Python', 'Vlad - Python'],\n  ['Mike - Python', 'April - Python', 'Bob - Python', 'Alice - Python'],\n  ['Alex - Python']],\n [['Anna - Python', 'John - Python', 'Liza - Python', 'Vlad - Python'],\n  ['Mike - Python', 'April - Python', 'Bob - Python', 'Alice - Python'],\n  ['Alex - Python']],\n [['Anna - Python', 'John - Python', 'Liza - Python', 'Vlad - Python'],\n  ['Mike - Python', 'April - Python', 'Bob - Python', 'Alice - Python'],\n  ['Alex - Python']],\n [['Anna - Python', 'John - Python', 'Liza - Python', 'Vlad - Python'],\n  ['Mike - Python', 'April - Python', 'Bob - Python', 'Alice - Python'],\n  ['Alex - Python']],\n [['Anna - Python', 'John - Python', 'Liza - Python', 'Vlad - Python'],\n  ['Mike - Python', 'April - Python', 'Bob - Python', 'Alice - Python'],\n  ['Alex - Python']],\n [['Anna - Python', 'John - Python', 'Liza - Python', 'Vlad - Python'],\n  ['Mike - Python', 'April - Python', 'Bob - Python', 'Alice - Python'],\n  ['Alex - Python']],\n [['Anna - Python', 'John - Python', 'Liza - Python', 'Vlad - Python'],\n  ['Mike - Python', 'April - Python', 'Bob - Python', 'Alice - Python'],\n  ['Alex - Python']],\n [['Anna - Python', 'John - Python', 'Liza - Python', 'Vlad - Python'],\n  ['Mike - Python', 'April - Python', 'Bob - Python', 'Alice - Python'],\n  ['Alex - Python']],\n [['Anna - Python', 'John - Python', 'Liza - Python', 'Vlad - Python'],\n  ['Mike - Python', 'April - Python', 'Bob - Python', 'Alice - Python'],\n  ['Alex - Python']],\n [['Anna - Python', 'John - Python', 'Liza - Python', 'Vlad - Python'],\n  ['Mike - Python', 'April - Python', 'Bob - Python', 'Alice - Python'],\n  ['Alex - Python']],\n [['Anna - Python', 'John - Python', 'Liza - Python', 'Vlad - Python'],\n  ['Mike - Python', 'April - Python', 'Bob - Python', 'Alice - Python'],\n  ['Alex - Python']],\n [['Anna - Python', 'John - Python', 'Liza - Python', 'Vlad - Python'],\n  ['Mike - Python', 'April - Python', 'Bob - Python', 'Alice - Python'],\n  ['Alex - Python']],\n [['Anna - Python', 'John - Python', 'Liza - Python', 'Vlad - Python'],\n  ['Mike - Python', 'April - Python', 'Bob - Python', 'Alice - Python'],\n  ['Alex - Python']],\n [['Anna - Python', 'John - Python', 'Liza - Python', 'Vlad - Python'],\n  ['Mike - Python', 'April - Python', 'Bob - Python', 'Alice - Python'],\n  ['Alex - Python']],\n [['Anna - Python', 'John - Python', 'Liza - Python', 'Vlad - Python'],\n  ['Mike - Python', 'April - Python', 'Bob - Python', 'Alice - Python'],\n  ['Alex - Python']],\n [['Anna - Python', 'John - Python', 'Liza - Python', 'Vlad - Python'],\n  ['Mike - Python', 'April - Python', 'Bob - Python', 'Alice - Python'],\n  ['Alex - Python']],\n [['Anna - Python', 'John - Python', 'Liza - Python', 'Vlad - Python'],\n  ['Mike - Python', 'April - Python', 'Bob - Python', 'Alice - Python'],\n  ['Alex - Python']],\n [['Anna - Python', 'John - Python', 'Liza - Python', 'Vlad - Python'],\n  ['Mike - Python', 'April - Python', 'Bob - Python', 'Alice - Python'],\n  ['Alex - Python']],\n [['Anna - Python', 'John - Python', 'Liza - Python', 'Vlad - Python'],\n  ['Mike - Python', 'April - Python', 'Bob - Python', 'Alice - Python'],\n  ['Alex - Python']],\n [['Anna - Python', 'John - Python', 'Liza - Python', 'Vlad - Python'],\n  ['Mike - Python', 'April - Python', 'Bob - Python', 'Alice - Python'],\n  ['Alex - Python']],\n [['Anna - Python', 'John - Python', 'Liza - Python', 'Vlad - Python'],\n  ['Mike - Python', 'April - Python', 'Bob - Python', 'Alice - Python'],\n  ['Alex - Python']],\n [['Anna - Python', 'John - Python', 'Liza - Python', 'Vlad - Python'],\n  ['Mike - Python', 'April - Python', 'Bob - Python', 'Alice - Python'],\n  ['Alex - Python']],\n [['Anna - Python', 'John - Python', 'Liza - Python', 'Vlad - Python'],\n  ['Mike - Python', 'April - Python', 'Bob - Python', 'Alice - Python'],\n  ['Alex - Python']],\n [['Anna - Python', 'John - Python', 'Liza - Python', 'Vlad - Python'],\n  ['Mike - Python', 'April - Python', 'Bob - Python', 'Alice - Python'],\n  ['Alex - Python']],\n [['Anna - Python', 'John - Python', 'Liza - Python', 'Vlad - Python'],\n  ['Mike - Python', 'April - Python', 'Bob - Python', 'Alice - Python'],\n  ['Alex - Python']],\n [['Anna - Python', 'John - Python', 'Liza - Python', 'Vlad - Python'],\n  ['Mike - Python', 'April - Python', 'Bob - Python', 'Alice - Python'],\n  ['Alex - Python']],\n [['Anna - Python', 'John - Python', 'Liza - Python', 'Vlad - Python'],\n  ['Mike - Python', 'April - Python', 'Bob - Python', 'Alice - Python'],\n  ['Alex - Python']],\n [['Anna - Python', 'John - Python', 'Liza - Python', 'Vlad - Python'],\n  ['Mike - Python', 'April - Python', 'Bob - Python', 'Alice - Python'],\n  ['Alex - Python']],\n [['Anna - Python', 'John - Python', 'Liza - Python', 'Vlad - Python'],\n  ['Mike - Python', 'April - Python', 'Bob - Python', 'Alice - Python'],\n  ['Alex - Python']],\n [['Anna - Python', 'John - Python', 'Liza - Python', 'Vlad - Python'],\n  ['Mike - Python', 'April - Python', 'Bob - Python', 'Alice - Python'],\n  ['Alex - Python']],\n [['Anna - Python', 'John - Python', 'Liza - Python', 'Vlad - Python'],\n  ['Mike - Python', 'April - Python', 'Bob - Python', 'Alice - Python'],\n  ['Alex - Python']],\n [['Anna - Python', 'John - Python', 'Liza - Python', 'Vlad - Python'],\n  ['Mike - Python', 'April - Python', 'Bob - Python', 'Alice - Python'],\n  ['Alex - Python']],\n [['Anna - Python', 'John - Python', 'Liza - Python', 'Vlad - Python'],\n  ['Mike - Python', 'April - Python', 'Bob - Python', 'Alice - Python'],\n  ['Alex - Python']],\n [['Anna - Python', 'John - Python', 'Liza - Python', 'Vlad - Python'],\n  ['Mike - Python', 'April - Python', 'Bob - Python', 'Alice - Python'],\n  ['Alex - Python']],\n [['Anna - Python', 'John - Python', 'Liza - Python', 'Vlad - Python'],\n  ['Mike - Python', 'April - Python', 'Bob - Python', 'Alice - Python'],\n  ['Alex - Python']],\n [['Anna - Python', 'John - Python', 'Liza - Python', 'Vlad - Python'],\n  ['Mike - Python', 'April - Python', 'Bob - Python', 'Alice - Python'],\n  ['Alex - Python']],\n [['Anna - Python', 'John - Python', 'Liza - Python', 'Vlad - Python'],\n  ['Mike - Python', 'April - Python', 'Bob - Python', 'Alice - Python'],\n  ['Alex - Python']],\n [['Anna - Python', 'John - Python', 'Liza - Python', 'Vlad - Python'],\n  ['Mike - Python', 'April - Python', 'Bob - Python', 'Alice - Python'],\n  ['Alex - Python']],\n [['Anna - Python', 'John - Python', 'Liza - Python', 'Vlad - Python'],\n  ['Mike - Python', 'April - Python', 'Bob - Python', 'Alice - Python'],\n  ['Alex - Python']],\n [['Anna - Python', 'John - Python', 'Liza - Python', 'Vlad - Python'],\n  ['Mike - Python', 'April - Python', 'Bob - Python', 'Alice - Python'],\n  ['Alex - Python']],\n [['Anna - Python', 'John - Python', 'Liza - Python', 'Vlad - Python'],\n  ['Mike - Python', 'April - Python', 'Bob - Python', 'Alice - Python'],\n  ['Alex - Python']],\n [['Anna - Python', 'John - Python', 'Liza - Python', 'Vlad - Python'],\n  ['Mike - Python', 'April - Python', 'Bob - Python', 'Alice - Python'],\n  ['Alex - Python']],\n [['Anna - Python', 'John - Python', 'Liza - Python', 'Vlad - Python'],\n  ['Mike - Python', 'April - Python', 'Bob - Python', 'Alice - Python'],\n  ['Alex - Python']],\n [['Anna - Python', 'John - Python', 'Liza - Python', 'Vlad - Python'],\n  ['Mike - Python', 'April - Python', 'Bob - Python', 'Alice - Python'],\n  ['Alex - Python']],\n [['Anna - Python', 'John - Python', 'Liza - Python', 'Vlad - Python'],\n  ['Mike - Python', 'April - Python', 'Bob - Python', 'Alice - Python'],\n  ['Alex - Python']],\n [['Anna - Python', 'John - Python', 'Liza - Python', 'Vlad - Python'],\n  ['Mike - Python', 'April - Python', 'Bob - Python', 'Alice - Python'],\n  ['Alex - Python']],\n [['Anna - Python', 'John - Python', 'Liza - Python', 'Vlad - Python'],\n  ['Mike - Python', 'April - Python', 'Bob - Python', 'Alice - Python'],\n  ['Alex - Python']],\n [['Anna - Python', 'John - Python', 'Liza - Python', 'Vlad - Python'],\n  ['Mike - Python', 'April - Python', 'Bob - Python', 'Alice - Python'],\n  ['Alex - Python']],\n [['Anna - Python', 'John - Python', 'Liza - Python', 'Vlad - Python'],\n  ['Mike - Python', 'April - Python', 'Bob - Python', 'Alice - Python'],\n  ['Alex - Python']],\n [['Anna - Python', 'John - Python', 'Liza - Python', 'Vlad - Python'],\n  ['Mike - Python', 'April - Python', 'Bob - Python', 'Alice - Python'],\n  ['Alex - Python']],\n [['Anna - Python', 'John - Python', 'Liza - Python', 'Vlad - Python'],\n  ['Mike - Python', 'April - Python', 'Bob - Python', 'Alice - Python'],\n  ['Alex - Python']],\n [['Anna - Python', 'John - Python', 'Liza - Python', 'Vlad - Python'],\n  ['Mike - Python', 'April - Python', 'Bob - Python', 'Alice - Python'],\n  ['Alex - Python']],\n [['Anna - Python', 'John - Python', 'Liza - Python', 'Vlad - Python'],\n  ['Mike - Python', 'April - Python', 'Bob - Python', 'Alice - Python'],\n  ['Alex - Python']],\n [['Anna - Python', 'John - Python', 'Liza - Python', 'Vlad - Python'],\n  ['Mike - Python', 'April - Python', 'Bob - Python', 'Alice - Python'],\n  ['Alex - Python']],\n [['Anna - Python', 'John - Python', 'Liza - Python', 'Vlad - Python'],\n  ['Mike - Python', 'April - Python', 'Bob - Python', 'Alice - Python'],\n  ['Alex - Python']],\n [['Anna - Python', 'John - Python', 'Liza - Python', 'Vlad - Python'],\n  ['Mike - Python', 'April - Python', 'Bob - Python', 'Alice - Python'],\n  ['Alex - Python']],\n [['Anna - Python', 'John - Python', 'Liza - Python', 'Vlad - Python'],\n  ['Mike - Python', 'April - Python', 'Bob - Python', 'Alice - Python'],\n  ['Alex - Python']],\n [['Anna - Python', 'John - Python', 'Liza - Python', 'Vlad - Python'],\n  ['Mike - Python', 'April - Python', 'Bob - Python', 'Alice - Python'],\n  ['Alex - Python']],\n [['Anna - Python', 'John - Python', 'Liza - Python', 'Vlad - Python'],\n  ['Mike - Python', 'April - Python', 'Bob - Python', 'Alice - Python'],\n  ['Alex - Python']],\n [['Anna - Python', 'John - Python', 'Liza - Python', 'Vlad - Python'],\n  ['Mike - Python', 'April - Python', 'Bob - Python', 'Alice - Python'],\n  ['Alex - Python']],\n [['Anna - Python', 'John - Python', 'Liza - Python', 'Vlad - Python'],\n  ['Mike - Python', 'April - Python', 'Bob - Python', 'Alice - Python'],\n  ['Alex - Python']],\n [['Anna - Python', 'John - Python', 'Liza - Python', 'Vlad - Python'],\n  ['Mike - Python', 'April - Python', 'Bob - Python', 'Alice - Python'],\n  ['Alex - Python']],\n [['Anna - Python', 'John - Python', 'Liza - Python', 'Vlad - Python'],\n  ['Mike - Python', 'April - Python', 'Bob - Python', 'Alice - Python'],\n  ['Alex - Python']],\n [['Anna - Python', 'John - Python', 'Liza - Python', 'Vlad - Python'],\n  ['Mike - Python', 'April - Python', 'Bob - Python', 'Alice - Python'],\n  ['Alex - Python']],\n [['Anna - Python', 'John - Python', 'Liza - Python', 'Vlad - Python'],\n  ['Mike - Python', 'April - Python', 'Bob - Python', 'Alice - Python'],\n  ['Alex - Python']],\n [['Anna - Python', 'John - Python', 'Liza - Python', 'Vlad - Python'],\n  ['Mike - Python', 'April - Python', 'Bob - Python', 'Alice - Python'],\n  ['Alex - Python']],\n [['Anna - Python', 'John - Python', 'Liza - Python', 'Vlad - Python'],\n  ['Mike - Python', 'April - Python', 'Bob - Python', 'Alice - Python'],\n  ['Alex - Python']],\n [['Anna - Python', 'John - Python', 'Liza - Python', 'Vlad - Python'],\n  ['Mike - Python', 'April - Python', 'Bob - Python', 'Alice - Python'],\n  ['Alex - Python']],\n [['Anna - Python', 'John - Python', 'Liza - Python', 'Vlad - Python'],\n  ['Mike - Python', 'April - Python', 'Bob - Python', 'Alice - Python'],\n  ['Alex - Python']]]"
     },
     "execution_count": 5,
     "metadata": {},
     "output_type": "execute_result"
    }
   ],
   "source": [
    "[\n",
    "    [\n",
    "        [student + \" - Python\" for student in group]\n",
    "        for group in student_groups\n",
    "    ]\n",
    "    for _ in range(100)\n",
    "]\n"
   ],
   "metadata": {
    "collapsed": false,
    "pycharm": {
     "name": "#%%\n"
    }
   }
  }
 ],
 "metadata": {
  "kernelspec": {
   "display_name": "Python 3",
   "language": "python",
   "name": "python3"
  },
  "language_info": {
   "codemirror_mode": {
    "name": "ipython",
    "version": 2
   },
   "file_extension": ".py",
   "mimetype": "text/x-python",
   "name": "python",
   "nbconvert_exporter": "python",
   "pygments_lexer": "ipython2",
   "version": "2.7.6"
  }
 },
 "nbformat": 4,
 "nbformat_minor": 0
}