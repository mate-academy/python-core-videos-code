{
 "cells": [
  {
   "cell_type": "code",
   "execution_count": 28,
   "outputs": [],
   "source": [
    "class GlassOfWater:\n",
    "    def __init__(self, temperature: int):\n",
    "        self.temperature = temperature\n",
    "\n",
    "glass = GlassOfWater(temperature=20)"
   ],
   "metadata": {
    "collapsed": false,
    "pycharm": {
     "name": "#%%\n"
    }
   }
  },
  {
   "cell_type": "code",
   "execution_count": 29,
   "outputs": [
    {
     "data": {
      "text/plain": "10000"
     },
     "execution_count": 29,
     "metadata": {},
     "output_type": "execute_result"
    }
   ],
   "source": [
    "# day1\n",
    "glass.temperature = 15\n",
    "# day2\n",
    "glass.temperature = 25\n",
    "# day3\n",
    "glass.temperature = 22\n",
    "# day4\n",
    "glass.temperature = 21\n",
    "# cheater\n",
    "glass.temperature = 10000  # not realistic\n",
    "\n",
    "glass.temperature"
   ],
   "metadata": {
    "collapsed": false,
    "pycharm": {
     "name": "#%%\n"
    }
   }
  },
  {
   "cell_type": "code",
   "execution_count": 43,
   "outputs": [
    {
     "name": "stdout",
     "output_type": "stream",
     "text": [
      "set temperature\n"
     ]
    },
    {
     "ename": "Exception",
     "evalue": "Temperature must be in range 0..100!",
     "output_type": "error",
     "traceback": [
      "\u001B[0;31m---------------------------------------------------------------------------\u001B[0m",
      "\u001B[0;31mException\u001B[0m                                 Traceback (most recent call last)",
      "\u001B[0;32m/var/folders/vz/0zmy1yvx26bf7m3jtclhl9_40000gn/T/ipykernel_30007/2923009879.py\u001B[0m in \u001B[0;36m<module>\u001B[0;34m\u001B[0m\n\u001B[1;32m     19\u001B[0m     \u001B[0;31m# temperature = property(get_temperature, set_temperature)\u001B[0m\u001B[0;34m\u001B[0m\u001B[0;34m\u001B[0m\u001B[0;34m\u001B[0m\u001B[0m\n\u001B[1;32m     20\u001B[0m \u001B[0;34m\u001B[0m\u001B[0m\n\u001B[0;32m---> 21\u001B[0;31m \u001B[0mglass\u001B[0m \u001B[0;34m=\u001B[0m \u001B[0mGlassOfWater\u001B[0m\u001B[0;34m(\u001B[0m\u001B[0mtemperature\u001B[0m\u001B[0;34m=\u001B[0m\u001B[0;36m1000\u001B[0m\u001B[0;34m)\u001B[0m\u001B[0;34m\u001B[0m\u001B[0;34m\u001B[0m\u001B[0m\n\u001B[0m\u001B[1;32m     22\u001B[0m \u001B[0mglass\u001B[0m\u001B[0;34m.\u001B[0m\u001B[0m__dict__\u001B[0m\u001B[0;34m\u001B[0m\u001B[0;34m\u001B[0m\u001B[0m\n",
      "\u001B[0;32m/var/folders/vz/0zmy1yvx26bf7m3jtclhl9_40000gn/T/ipykernel_30007/2923009879.py\u001B[0m in \u001B[0;36m__init__\u001B[0;34m(self, temperature)\u001B[0m\n\u001B[1;32m      3\u001B[0m \u001B[0;32mclass\u001B[0m \u001B[0mGlassOfWater\u001B[0m\u001B[0;34m:\u001B[0m\u001B[0;34m\u001B[0m\u001B[0;34m\u001B[0m\u001B[0m\n\u001B[1;32m      4\u001B[0m     \u001B[0;32mdef\u001B[0m \u001B[0m__init__\u001B[0m\u001B[0;34m(\u001B[0m\u001B[0mself\u001B[0m\u001B[0;34m,\u001B[0m \u001B[0mtemperature\u001B[0m\u001B[0;34m:\u001B[0m \u001B[0mint\u001B[0m\u001B[0;34m)\u001B[0m\u001B[0;34m:\u001B[0m\u001B[0;34m\u001B[0m\u001B[0;34m\u001B[0m\u001B[0m\n\u001B[0;32m----> 5\u001B[0;31m         \u001B[0mself\u001B[0m\u001B[0;34m.\u001B[0m\u001B[0mtemperature\u001B[0m \u001B[0;34m=\u001B[0m \u001B[0mtemperature\u001B[0m\u001B[0;34m\u001B[0m\u001B[0;34m\u001B[0m\u001B[0m\n\u001B[0m\u001B[1;32m      6\u001B[0m \u001B[0;34m\u001B[0m\u001B[0m\n\u001B[1;32m      7\u001B[0m     \u001B[0;34m@\u001B[0m\u001B[0mproperty\u001B[0m\u001B[0;34m\u001B[0m\u001B[0;34m\u001B[0m\u001B[0m\n",
      "\u001B[0;32m/var/folders/vz/0zmy1yvx26bf7m3jtclhl9_40000gn/T/ipykernel_30007/2923009879.py\u001B[0m in \u001B[0;36mtemperature\u001B[0;34m(self, temperature)\u001B[0m\n\u001B[1;32m     14\u001B[0m         \u001B[0mprint\u001B[0m\u001B[0;34m(\u001B[0m\u001B[0;34m\"set temperature\"\u001B[0m\u001B[0;34m)\u001B[0m\u001B[0;34m\u001B[0m\u001B[0;34m\u001B[0m\u001B[0m\n\u001B[1;32m     15\u001B[0m         \u001B[0;32mif\u001B[0m \u001B[0;32mnot\u001B[0m \u001B[0;34m(\u001B[0m\u001B[0;36m0\u001B[0m \u001B[0;34m<=\u001B[0m \u001B[0mtemperature\u001B[0m \u001B[0;34m<=\u001B[0m \u001B[0;36m100\u001B[0m\u001B[0;34m)\u001B[0m\u001B[0;34m:\u001B[0m\u001B[0;34m\u001B[0m\u001B[0;34m\u001B[0m\u001B[0m\n\u001B[0;32m---> 16\u001B[0;31m             \u001B[0;32mraise\u001B[0m \u001B[0mException\u001B[0m\u001B[0;34m(\u001B[0m\u001B[0;34m\"Temperature must be in range 0..100!\"\u001B[0m\u001B[0;34m)\u001B[0m\u001B[0;34m\u001B[0m\u001B[0;34m\u001B[0m\u001B[0m\n\u001B[0m\u001B[1;32m     17\u001B[0m         \u001B[0mself\u001B[0m\u001B[0;34m.\u001B[0m\u001B[0m_temperature\u001B[0m \u001B[0;34m=\u001B[0m \u001B[0mtemperature\u001B[0m\u001B[0;34m\u001B[0m\u001B[0;34m\u001B[0m\u001B[0m\n\u001B[1;32m     18\u001B[0m \u001B[0;34m\u001B[0m\u001B[0m\n",
      "\u001B[0;31mException\u001B[0m: Temperature must be in range 0..100!"
     ]
    }
   ],
   "source": [
    "# water temperature should be between 0 and 100\n",
    "\n",
    "class GlassOfWater:\n",
    "    def __init__(self, temperature: int):\n",
    "        self.temperature = temperature\n",
    "\n",
    "    @property\n",
    "    def temperature(self):\n",
    "        print(\"get temperature\")\n",
    "        return self._temperature\n",
    "\n",
    "    @temperature.setter\n",
    "    def temperature(self, temperature: int):\n",
    "        print(\"set temperature\")\n",
    "        if not (0 <= temperature <= 100):\n",
    "            raise Exception(\"Temperature must be in range 0..100!\")\n",
    "        self._temperature = temperature\n",
    "\n",
    "    # temperature = property(get_temperature, set_temperature)\n",
    "\n",
    "glass = GlassOfWater(temperature=1000)\n",
    "glass.__dict__"
   ],
   "metadata": {
    "collapsed": false,
    "pycharm": {
     "name": "#%%\n"
    }
   }
  },
  {
   "cell_type": "code",
   "execution_count": 37,
   "outputs": [
    {
     "name": "stdout",
     "output_type": "stream",
     "text": [
      "set temperature\n",
      "set temperature\n",
      "set temperature\n",
      "set temperature\n",
      "Temperature must be in range 0..100!\n",
      "get temperature\n",
      "22\n"
     ]
    }
   ],
   "source": [
    "# day1\n",
    "glass.temperature = 15\n",
    "# day2\n",
    "glass.temperature = 25\n",
    "# day3\n",
    "glass.temperature = 22\n",
    "# day4\n",
    "glass.temperature = 10000\n",
    "print(glass.temperature)"
   ],
   "metadata": {
    "collapsed": false,
    "pycharm": {
     "name": "#%%\n"
    }
   }
  }
 ],
 "metadata": {
  "kernelspec": {
   "display_name": "Python 3",
   "language": "python",
   "name": "python3"
  },
  "language_info": {
   "codemirror_mode": {
    "name": "ipython",
    "version": 2
   },
   "file_extension": ".py",
   "mimetype": "text/x-python",
   "name": "python",
   "nbconvert_exporter": "python",
   "pygments_lexer": "ipython2",
   "version": "2.7.6"
  }
 },
 "nbformat": 4,
 "nbformat_minor": 0
}