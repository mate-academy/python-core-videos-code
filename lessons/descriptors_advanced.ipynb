{
 "cells": [
  {
   "cell_type": "code",
   "execution_count": 59,
   "outputs": [
    {
     "name": "stdout",
     "output_type": "stream",
     "text": [
      "set water_temperature 29\n",
      "set air_temperature 20\n"
     ]
    }
   ],
   "source": [
    "class Temperature:\n",
    "    def __init__(self, min_temp, max_temp):\n",
    "        self.min_temp = min_temp\n",
    "        self.max_temp = max_temp\n",
    "\n",
    "    def __set_name__(self, owner, name):\n",
    "        self.public_name = name\n",
    "        self.private_name = '_' + name\n",
    "\n",
    "    def __get__(self, instance, owner):\n",
    "        print(f\"get {self.public_name}\")\n",
    "        return getattr(instance, self.private_name)\n",
    "\n",
    "    def __set__(self, instance, value):\n",
    "        print(f\"set {self.public_name}\", value)\n",
    "        if not (self.min_temp <= value <= self.max_temp):\n",
    "            print(\n",
    "                f\"Temperature must be in range \"\n",
    "                f\"{self.min_temp}..{self.max_temp}!\"\n",
    "            )\n",
    "            return\n",
    "        setattr(instance, self.private_name, value)\n",
    "\n",
    "class GlassOfWater:\n",
    "    water_temperature = Temperature(0, 100)\n",
    "    air_temperature = Temperature(10, 30)\n",
    "\n",
    "    def __init__(self, water_temperature: int, air_temperature: int):\n",
    "        self.water_temperature = water_temperature\n",
    "        self.air_temperature = air_temperature\n",
    "\n",
    "    def water_heat(self):\n",
    "        self.water_temperature += 1\n",
    "\n",
    "    def air_heat(self):\n",
    "        self.air_temperature += 1\n",
    "\n",
    "glass = GlassOfWater(29, 20)"
   ],
   "metadata": {
    "collapsed": false,
    "pycharm": {
     "name": "#%%\n"
    }
   }
  },
  {
   "cell_type": "code",
   "execution_count": 60,
   "outputs": [
    {
     "name": "stdout",
     "output_type": "stream",
     "text": [
      "get water_temperature\n",
      "Water: 29\n",
      "get air_temperature\n",
      "Air: 20\n"
     ]
    }
   ],
   "source": [
    "print(\"Water:\", glass.water_temperature)\n",
    "print(\"Air:\", glass.air_temperature)"
   ],
   "metadata": {
    "collapsed": false,
    "pycharm": {
     "name": "#%%\n"
    }
   }
  },
  {
   "cell_type": "code",
   "execution_count": 61,
   "outputs": [
    {
     "data": {
      "text/plain": "{'_water_temperature': 29, '_air_temperature': 20}"
     },
     "execution_count": 61,
     "metadata": {},
     "output_type": "execute_result"
    }
   ],
   "source": [
    "glass.__dict__"
   ],
   "metadata": {
    "collapsed": false,
    "pycharm": {
     "name": "#%%\n"
    }
   }
  },
  {
   "cell_type": "code",
   "execution_count": 62,
   "outputs": [
    {
     "name": "stdout",
     "output_type": "stream",
     "text": [
      "get water_temperature\n",
      "set water_temperature 30\n",
      "get air_temperature\n",
      "set air_temperature 21\n"
     ]
    }
   ],
   "source": [
    "glass.water_heat()\n",
    "glass.air_heat()"
   ],
   "metadata": {
    "collapsed": false,
    "pycharm": {
     "name": "#%%\n"
    }
   }
  }
 ],
 "metadata": {
  "kernelspec": {
   "display_name": "Python 3",
   "language": "python",
   "name": "python3"
  },
  "language_info": {
   "codemirror_mode": {
    "name": "ipython",
    "version": 2
   },
   "file_extension": ".py",
   "mimetype": "text/x-python",
   "name": "python",
   "nbconvert_exporter": "python",
   "pygments_lexer": "ipython2",
   "version": "2.7.6"
  }
 },
 "nbformat": 4,
 "nbformat_minor": 0
}