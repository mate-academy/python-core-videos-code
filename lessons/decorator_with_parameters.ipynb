{
 "cells": [
  {
   "cell_type": "code",
   "execution_count": 41,
   "outputs": [
    {
     "name": "stdout",
     "output_type": "stream",
     "text": [
      "Hello, Dania!\n"
     ]
    }
   ],
   "source": [
    "def printer(name: str):\n",
    "    print(f\"Hello, {name}!\")\n",
    "\n",
    "printer(\"Dania\")"
   ],
   "metadata": {
    "collapsed": false,
    "pycharm": {
     "name": "#%%\n"
    }
   }
  },
  {
   "cell_type": "code",
   "execution_count": 29,
   "outputs": [],
   "source": [
    "import time\n",
    "\n",
    "# wait 3 sec and then run function\n",
    "def delay(func):\n",
    "    def wrapper(*args, **kwargs):\n",
    "        print(\"Sleeping 3 sec\")\n",
    "        for i in range(3):\n",
    "            time.sleep(1)\n",
    "            print(i + 1)\n",
    "\n",
    "        return func(*args, **kwargs)\n",
    "    return wrapper"
   ],
   "metadata": {
    "collapsed": false,
    "pycharm": {
     "name": "#%%\n"
    }
   }
  },
  {
   "cell_type": "code",
   "execution_count": 30,
   "outputs": [],
   "source": [
    "printer = delay(printer)"
   ],
   "metadata": {
    "collapsed": false,
    "pycharm": {
     "name": "#%%\n"
    }
   }
  },
  {
   "cell_type": "code",
   "execution_count": 31,
   "outputs": [
    {
     "name": "stdout",
     "output_type": "stream",
     "text": [
      "Sleeping 3 sec\n",
      "1\n",
      "2\n",
      "3\n",
      "Hello, Dania!\n"
     ]
    }
   ],
   "source": [
    "printer(\"Dania\")"
   ],
   "metadata": {
    "collapsed": false,
    "pycharm": {
     "name": "#%%\n"
    }
   }
  },
  {
   "cell_type": "code",
   "execution_count": 32,
   "outputs": [],
   "source": [
    "def delay(seconds: int):\n",
    "    def inner(func):\n",
    "        def wrapper(*args, **kwargs):\n",
    "            print(f\"Sleeping {seconds} sec\")\n",
    "            for i in range(seconds):\n",
    "                time.sleep(1)\n",
    "                print(i + 1)\n",
    "\n",
    "            return func(*args, **kwargs)\n",
    "        return wrapper\n",
    "    return inner"
   ],
   "metadata": {
    "collapsed": false,
    "pycharm": {
     "name": "#%%\n"
    }
   }
  },
  {
   "cell_type": "code",
   "execution_count": 36,
   "outputs": [],
   "source": [
    "printer = delay(5)(printer)  # delay(5) -> inner\n",
    "# printer = inner(printer)"
   ],
   "metadata": {
    "collapsed": false,
    "pycharm": {
     "name": "#%%\n"
    }
   }
  },
  {
   "cell_type": "code",
   "execution_count": 37,
   "outputs": [
    {
     "name": "stdout",
     "output_type": "stream",
     "text": [
      "Sleeping 5 sec\n",
      "1\n",
      "2\n",
      "3\n",
      "4\n",
      "5\n",
      "Hello, Dania!\n"
     ]
    }
   ],
   "source": [
    "printer(\"Dania\")"
   ],
   "metadata": {
    "collapsed": false,
    "pycharm": {
     "name": "#%%\n"
    }
   }
  },
  {
   "cell_type": "code",
   "execution_count": 42,
   "outputs": [
    {
     "name": "stdout",
     "output_type": "stream",
     "text": [
      "Sleeping 7 sec\n",
      "1\n",
      "2\n",
      "3\n",
      "4\n",
      "5\n",
      "6\n",
      "7\n",
      "Hello, John!\n"
     ]
    }
   ],
   "source": [
    "delay(7)(printer)(\"John\")\n",
    "# inner(printer)(\"John\")   # seconds = 7\n",
    "# wrapper(\"John\")   # seconds = 7, func = printer\n",
    "# args = (\"John\",), kwargs = {}"
   ],
   "metadata": {
    "collapsed": false,
    "pycharm": {
     "name": "#%%\n"
    }
   }
  },
  {
   "cell_type": "code",
   "execution_count": 43,
   "outputs": [],
   "source": [
    "@delay(seconds=4)\n",
    "def printer(name: str):\n",
    "    print(f\"Hello, {name}!\")"
   ],
   "metadata": {
    "collapsed": false,
    "pycharm": {
     "name": "#%%\n"
    }
   }
  },
  {
   "cell_type": "code",
   "execution_count": 44,
   "outputs": [
    {
     "name": "stdout",
     "output_type": "stream",
     "text": [
      "Sleeping 4 sec\n",
      "1\n",
      "2\n",
      "3\n",
      "4\n",
      "Hello, Alice!\n"
     ]
    }
   ],
   "source": [
    "printer(\"Alice\")"
   ],
   "metadata": {
    "collapsed": false,
    "pycharm": {
     "name": "#%%\n"
    }
   }
  },
  {
   "cell_type": "code",
   "execution_count": null,
   "outputs": [],
   "source": [],
   "metadata": {
    "collapsed": false,
    "pycharm": {
     "name": "#%%\n"
    }
   }
  }
 ],
 "metadata": {
  "kernelspec": {
   "display_name": "Python 3",
   "language": "python",
   "name": "python3"
  },
  "language_info": {
   "codemirror_mode": {
    "name": "ipython",
    "version": 2
   },
   "file_extension": ".py",
   "mimetype": "text/x-python",
   "name": "python",
   "nbconvert_exporter": "python",
   "pygments_lexer": "ipython2",
   "version": "2.7.6"
  }
 },
 "nbformat": 4,
 "nbformat_minor": 0
}