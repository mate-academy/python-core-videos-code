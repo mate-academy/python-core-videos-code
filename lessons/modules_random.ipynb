{
 "cells": [
  {
   "cell_type": "code",
   "execution_count": 89,
   "outputs": [],
   "source": [
    "import random"
   ],
   "metadata": {
    "collapsed": false,
    "pycharm": {
     "name": "#%%\n"
    }
   }
  },
  {
   "cell_type": "code",
   "execution_count": 99,
   "outputs": [
    {
     "name": "stdout",
     "output_type": "stream",
     "text": [
      "14\n",
      "48\n",
      "68\n",
      "22\n",
      "80\n",
      "63\n",
      "43\n",
      "23\n",
      "11\n",
      "62\n"
     ]
    }
   ],
   "source": [
    "for _ in range(10):\n",
    "    print(random.randint(0, 100))"
   ],
   "metadata": {
    "collapsed": false,
    "pycharm": {
     "name": "#%%\n"
    }
   }
  },
  {
   "cell_type": "code",
   "execution_count": 121,
   "outputs": [
    {
     "name": "stdout",
     "output_type": "stream",
     "text": [
      "79\n",
      "32\n",
      "94\n",
      "45\n",
      "88\n",
      "94\n",
      "83\n",
      "67\n",
      "3\n",
      "59\n"
     ]
    }
   ],
   "source": [
    "random.seed(5)\n",
    "\n",
    "for _ in range(10):\n",
    "    print(random.randint(0, 100))"
   ],
   "metadata": {
    "collapsed": false,
    "pycharm": {
     "name": "#%%\n"
    }
   }
  },
  {
   "cell_type": "code",
   "execution_count": 128,
   "outputs": [
    {
     "data": {
      "text/plain": "'What are decorators in Python?'"
     },
     "execution_count": 128,
     "metadata": {},
     "output_type": "execute_result"
    }
   ],
   "source": [
    "questions = [\n",
    "    \"Is Python interpreted or compiled language?\",\n",
    "    \"What are decorators in Python?\",\n",
    "    \"How `range()` works?\",\n",
    "    \"What is the purpose of `id()` in Python?\"\n",
    "]\n",
    "\n",
    "random_index = random.randint(0, len(questions) - 1)\n",
    "questions[random_index]"
   ],
   "metadata": {
    "collapsed": false,
    "pycharm": {
     "name": "#%%\n"
    }
   }
  },
  {
   "cell_type": "code",
   "execution_count": 144,
   "outputs": [
    {
     "data": {
      "text/plain": "'Is Python interpreted or compiled language?'"
     },
     "execution_count": 144,
     "metadata": {},
     "output_type": "execute_result"
    }
   ],
   "source": [
    "random.choice(questions)"
   ],
   "metadata": {
    "collapsed": false,
    "pycharm": {
     "name": "#%%\n"
    }
   }
  },
  {
   "cell_type": "code",
   "execution_count": 153,
   "outputs": [
    {
     "data": {
      "text/plain": "['Is Python interpreted or compiled language?',\n 'What are decorators in Python?',\n 'What is the purpose of `id()` in Python?',\n 'How `range()` works?']"
     },
     "execution_count": 153,
     "metadata": {},
     "output_type": "execute_result"
    }
   ],
   "source": [
    "random.shuffle(questions)\n",
    "questions"
   ],
   "metadata": {
    "collapsed": false,
    "pycharm": {
     "name": "#%%\n"
    }
   }
  }
 ],
 "metadata": {
  "kernelspec": {
   "display_name": "Python 3",
   "language": "python",
   "name": "python3"
  },
  "language_info": {
   "codemirror_mode": {
    "name": "ipython",
    "version": 2
   },
   "file_extension": ".py",
   "mimetype": "text/x-python",
   "name": "python",
   "nbconvert_exporter": "python",
   "pygments_lexer": "ipython2",
   "version": "2.7.6"
  }
 },
 "nbformat": 4,
 "nbformat_minor": 0
}