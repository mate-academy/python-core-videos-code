{
 "cells": [
  {
   "cell_type": "code",
   "execution_count": 2,
   "outputs": [
    {
     "name": "stdout",
     "output_type": "stream",
     "text": [
      "5\n",
      "Get called\n",
      "2\n"
     ]
    }
   ],
   "source": [
    "# Descriptors\n",
    "\n",
    "class Two:\n",
    "    def __get__(self, instance, owner):\n",
    "        print(\"Get called\")\n",
    "        return 2\n",
    "\n",
    "\n",
    "class Example:\n",
    "    x = 5  # attribute\n",
    "    y = Two()  # Descriptor instance\n",
    "\n",
    "ex = Example()\n",
    "\n",
    "print(ex.x)\n",
    "print(ex.y)"
   ],
   "metadata": {
    "collapsed": false,
    "pycharm": {
     "name": "#%%\n"
    }
   }
  },
  {
   "cell_type": "code",
   "execution_count": 16,
   "outputs": [],
   "source": [
    "# Dynamic lookups\n",
    "\n",
    "class ArraySize:\n",
    "    def __get__(self, instance, owner):\n",
    "        return len(instance.arr)\n",
    "\n",
    "\n",
    "class Array:\n",
    "    size = ArraySize()\n",
    "\n",
    "    def __init__(self, arr: list):\n",
    "        self.arr = arr\n",
    "\n",
    "array_obj = Array([1, 2, 3])"
   ],
   "metadata": {
    "collapsed": false,
    "pycharm": {
     "name": "#%%\n"
    }
   }
  },
  {
   "cell_type": "code",
   "execution_count": 15,
   "outputs": [
    {
     "name": "stdout",
     "output_type": "stream",
     "text": [
      "3\n"
     ]
    }
   ],
   "source": [
    "print(len(array_obj.arr))"
   ],
   "metadata": {
    "collapsed": false,
    "pycharm": {
     "name": "#%%\n"
    }
   }
  },
  {
   "cell_type": "code",
   "execution_count": 17,
   "outputs": [
    {
     "data": {
      "text/plain": "3"
     },
     "execution_count": 17,
     "metadata": {},
     "output_type": "execute_result"
    }
   ],
   "source": [
    "array_obj.size"
   ],
   "metadata": {
    "collapsed": false,
    "pycharm": {
     "name": "#%%\n"
    }
   }
  },
  {
   "cell_type": "code",
   "execution_count": 18,
   "outputs": [
    {
     "data": {
      "text/plain": "4"
     },
     "execution_count": 18,
     "metadata": {},
     "output_type": "execute_result"
    }
   ],
   "source": [
    "array_obj.arr.append(5)\n",
    "array_obj.size"
   ],
   "metadata": {
    "collapsed": false,
    "pycharm": {
     "name": "#%%\n"
    }
   }
  },
  {
   "cell_type": "code",
   "execution_count": 25,
   "outputs": [
    {
     "name": "stdout",
     "output_type": "stream",
     "text": [
      "set temperature\n"
     ]
    }
   ],
   "source": [
    "# Managing attributes\n",
    "\n",
    "class Temperature:\n",
    "    def __get__(self, instance, owner):\n",
    "        print(\"get temperature\")\n",
    "        return instance._temperature\n",
    "\n",
    "    def __set__(self, instance, value):\n",
    "        print(\"set temperature\")\n",
    "        if not (0 <= value <= 100):\n",
    "            print(\"Temperature must be in range 0..100!\")\n",
    "            return\n",
    "        instance._temperature = value\n",
    "\n",
    "class GlassOfWater:\n",
    "    temperature = Temperature()\n",
    "\n",
    "    def __init__(self, temperature: int):\n",
    "        self.temperature = temperature\n",
    "\n",
    "    def heat(self):\n",
    "        self.temperature += 1  # self.temperature = self.temperature + 1\n",
    "\n",
    "glass = GlassOfWater(98)"
   ],
   "metadata": {
    "collapsed": false,
    "pycharm": {
     "name": "#%%\n"
    }
   }
  },
  {
   "cell_type": "code",
   "execution_count": 21,
   "outputs": [
    {
     "data": {
      "text/plain": "{'_temperature': 98}"
     },
     "execution_count": 21,
     "metadata": {},
     "output_type": "execute_result"
    }
   ],
   "source": [
    "glass.__dict__"
   ],
   "metadata": {
    "collapsed": false,
    "pycharm": {
     "name": "#%%\n"
    }
   }
  },
  {
   "cell_type": "code",
   "execution_count": 26,
   "outputs": [
    {
     "name": "stdout",
     "output_type": "stream",
     "text": [
      "get temperature\n",
      "set temperature\n",
      "get temperature\n",
      "set temperature\n",
      "get temperature\n",
      "set temperature\n",
      "Temperature must be in range 0..100!\n"
     ]
    }
   ],
   "source": [
    "glass.heat()\n",
    "glass.heat()\n",
    "glass.heat()"
   ],
   "metadata": {
    "collapsed": false,
    "pycharm": {
     "name": "#%%\n"
    }
   }
  },
  {
   "cell_type": "code",
   "execution_count": 27,
   "outputs": [
    {
     "name": "stdout",
     "output_type": "stream",
     "text": [
      "get temperature\n"
     ]
    },
    {
     "data": {
      "text/plain": "100"
     },
     "execution_count": 27,
     "metadata": {},
     "output_type": "execute_result"
    }
   ],
   "source": [
    "glass.temperature"
   ],
   "metadata": {
    "collapsed": false,
    "pycharm": {
     "name": "#%%\n"
    }
   }
  },
  {
   "cell_type": "code",
   "execution_count": 28,
   "outputs": [
    {
     "data": {
      "text/plain": "{'_temperature': 100}"
     },
     "execution_count": 28,
     "metadata": {},
     "output_type": "execute_result"
    }
   ],
   "source": [
    "glass.__dict__"
   ],
   "metadata": {
    "collapsed": false,
    "pycharm": {
     "name": "#%%\n"
    }
   }
  }
 ],
 "metadata": {
  "kernelspec": {
   "display_name": "Python 3",
   "language": "python",
   "name": "python3"
  },
  "language_info": {
   "codemirror_mode": {
    "name": "ipython",
    "version": 2
   },
   "file_extension": ".py",
   "mimetype": "text/x-python",
   "name": "python",
   "nbconvert_exporter": "python",
   "pygments_lexer": "ipython2",
   "version": "2.7.6"
  }
 },
 "nbformat": 4,
 "nbformat_minor": 0
}