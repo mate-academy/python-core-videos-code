{
 "cells": [
  {
   "cell_type": "code",
   "execution_count": 1,
   "outputs": [
    {
     "name": "stdout",
     "output_type": "stream",
     "text": [
      "id of arr before: 4382325632\n",
      "id of arr after: 4382325632\n",
      "arr: [1, 2, 10]\n"
     ]
    }
   ],
   "source": [
    "def change_list(lst: list) -> None:\n",
    "    lst += [10]\n",
    "\n",
    "arr = [1, 2]\n",
    "print(\"id of arr before:\", id(arr))\n",
    "change_list(arr)\n",
    "print(\"id of arr after:\", id(arr))\n",
    "print(\"arr:\", arr)"
   ],
   "metadata": {
    "collapsed": false,
    "pycharm": {
     "name": "#%%\n"
    }
   }
  },
  {
   "cell_type": "code",
   "execution_count": 3,
   "outputs": [
    {
     "name": "stdout",
     "output_type": "stream",
     "text": [
      "id of a before: 4319338888\n",
      "id of num inside: 4319338888\n",
      "id of num after change inside: 4319339208\n",
      "id of a after: 4319338888\n",
      "a: 5\n"
     ]
    }
   ],
   "source": [
    "def change_number(num: int) -> None:\n",
    "    print(\"id of num inside:\", id(num))\n",
    "    num += 10\n",
    "    print(\"id of num after change inside:\", id(num))\n",
    "\n",
    "a = 5\n",
    "print(\"id of a before:\", id(a))\n",
    "change_number(a)\n",
    "print(\"id of a after:\", id(a))\n",
    "print(\"a:\", a)"
   ],
   "metadata": {
    "collapsed": false,
    "pycharm": {
     "name": "#%%\n"
    }
   }
  }
 ],
 "metadata": {
  "kernelspec": {
   "display_name": "Python 3",
   "language": "python",
   "name": "python3"
  },
  "language_info": {
   "codemirror_mode": {
    "name": "ipython",
    "version": 2
   },
   "file_extension": ".py",
   "mimetype": "text/x-python",
   "name": "python",
   "nbconvert_exporter": "python",
   "pygments_lexer": "ipython2",
   "version": "2.7.6"
  }
 },
 "nbformat": 4,
 "nbformat_minor": 0
}