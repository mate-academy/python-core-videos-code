{
 "cells": [
  {
   "cell_type": "code",
   "source": [
    "def divide(a, b):\n",
    "    return a // b\n",
    "\n",
    "def get_element_by_index(arr: list, index: int):\n",
    "    return arr[index]\n",
    "\n",
    "def perform_calculations():\n",
    "    a = 18\n",
    "    b = 6\n",
    "\n",
    "    try:\n",
    "        index = divide(a, b)\n",
    "    except ZeroDivisionError:\n",
    "        print(\"There was an ZeroDivisionError! Returning -1.\")\n",
    "        return -1\n",
    "\n",
    "    arr = [1, 7, 2, 5, 4]\n",
    "\n",
    "    try:\n",
    "        return get_element_by_index(arr, index)\n",
    "    except IndexError:\n",
    "        print(\"There was an IndexError! Returning -1.\")\n",
    "        return -1\n",
    "\n",
    "print(\"Result:\", perform_calculations())\n"
   ],
   "metadata": {
    "collapsed": false,
    "pycharm": {
     "name": "#%%\n"
    }
   },
   "execution_count": 9,
   "outputs": [
    {
     "name": "stdout",
     "output_type": "stream",
     "text": [
      "Result: 5\n"
     ]
    }
   ]
  }
 ],
 "metadata": {
  "kernelspec": {
   "display_name": "Python 3",
   "language": "python",
   "name": "python3"
  },
  "language_info": {
   "codemirror_mode": {
    "name": "ipython",
    "version": 2
   },
   "file_extension": ".py",
   "mimetype": "text/x-python",
   "name": "python",
   "nbconvert_exporter": "python",
   "pygments_lexer": "ipython2",
   "version": "2.7.6"
  }
 },
 "nbformat": 4,
 "nbformat_minor": 0
}