{
 "cells": [
  {
   "cell_type": "code",
   "execution_count": null,
   "outputs": [],
   "source": [
    "class User:\n",
    "    def __init__(self, name: str, age: int):\n",
    "        self.name = name\n",
    "        self.age = age\n",
    "\n",
    "    def print_info(self):\n",
    "        print(f\"{self.name} (age: {self.age})\")\n",
    "\n",
    "class Staff(User):\n",
    "    def __init__(self, name: str, age: int):\n",
    "        super().__init__(name, age)\n",
    "        self.is_staff = True\n",
    "\n",
    "    def login_to_admin_panel(self):\n",
    "        print(f\"{self.name} is entering Admin panel!\")"
   ],
   "metadata": {
    "collapsed": false,
    "pycharm": {
     "name": "#%%\n"
    }
   }
  },
  {
   "cell_type": "code",
   "execution_count": 84,
   "outputs": [
    {
     "name": "stdout",
     "output_type": "stream",
     "text": [
      "John (age: 25)\n",
      "John is entering Admin panel!\n"
     ]
    }
   ],
   "source": [
    "john = Staff(\"John\", 25)\n",
    "\n",
    "john.print_info()\n",
    "john.login_to_admin_panel()"
   ],
   "metadata": {
    "collapsed": false,
    "pycharm": {
     "name": "#%%\n"
    }
   }
  },
  {
   "cell_type": "code",
   "execution_count": 85,
   "outputs": [],
   "source": [
    "class Moderator(Staff):\n",
    "    def __init__(self, name: str, age: int):\n",
    "        super().__init__(name, age)\n",
    "        self.is_admin = False\n",
    "\n",
    "    def change_article(self):\n",
    "        print(f\"{self.name} changed Article!\")"
   ],
   "metadata": {
    "collapsed": false,
    "pycharm": {
     "name": "#%%\n"
    }
   }
  },
  {
   "cell_type": "code",
   "execution_count": 86,
   "outputs": [],
   "source": [
    "class Admin(Staff):\n",
    "    def __init__(self, name: str, age: int):\n",
    "        super().__init__(name, age)\n",
    "        self.is_admin = True\n",
    "\n",
    "    def create_new_staff(self):\n",
    "        print(f\"{self.name} created new Staff!\")"
   ],
   "metadata": {
    "collapsed": false,
    "pycharm": {
     "name": "#%%\n"
    }
   }
  },
  {
   "cell_type": "code",
   "execution_count": 87,
   "outputs": [
    {
     "name": "stdout",
     "output_type": "stream",
     "text": [
      "Petia (age: 30)\n",
      "Petia is entering Admin panel!\n",
      "Petia changed Article!\n"
     ]
    },
    {
     "ename": "AttributeError",
     "evalue": "'Moderator' object has no attribute 'create_new_staff'",
     "output_type": "error",
     "traceback": [
      "\u001B[0;31m---------------------------------------------------------------------------\u001B[0m",
      "\u001B[0;31mAttributeError\u001B[0m                            Traceback (most recent call last)",
      "\u001B[0;32m/var/folders/vz/0zmy1yvx26bf7m3jtclhl9_40000gn/T/ipykernel_67232/3872729868.py\u001B[0m in \u001B[0;36m<module>\u001B[0;34m\u001B[0m\n\u001B[1;32m      4\u001B[0m \u001B[0mpetia\u001B[0m\u001B[0;34m.\u001B[0m\u001B[0mlogin_to_admin_panel\u001B[0m\u001B[0;34m(\u001B[0m\u001B[0;34m)\u001B[0m\u001B[0;34m\u001B[0m\u001B[0;34m\u001B[0m\u001B[0m\n\u001B[1;32m      5\u001B[0m \u001B[0mpetia\u001B[0m\u001B[0;34m.\u001B[0m\u001B[0mchange_article\u001B[0m\u001B[0;34m(\u001B[0m\u001B[0;34m)\u001B[0m\u001B[0;34m\u001B[0m\u001B[0;34m\u001B[0m\u001B[0m\n\u001B[0;32m----> 6\u001B[0;31m \u001B[0mpetia\u001B[0m\u001B[0;34m.\u001B[0m\u001B[0mcreate_new_staff\u001B[0m\u001B[0;34m(\u001B[0m\u001B[0;34m)\u001B[0m\u001B[0;34m\u001B[0m\u001B[0;34m\u001B[0m\u001B[0m\n\u001B[0m\u001B[1;32m      7\u001B[0m \u001B[0;34m\u001B[0m\u001B[0m\n",
      "\u001B[0;31mAttributeError\u001B[0m: 'Moderator' object has no attribute 'create_new_staff'"
     ]
    }
   ],
   "source": [
    "petia = Moderator(\"Petia\", 30)\n",
    "\n",
    "petia.print_info()\n",
    "petia.login_to_admin_panel()\n",
    "petia.change_article()\n",
    "petia.create_new_staff()"
   ],
   "metadata": {
    "collapsed": false,
    "pycharm": {
     "name": "#%%\n"
    }
   }
  },
  {
   "cell_type": "code",
   "execution_count": 88,
   "outputs": [
    {
     "name": "stdout",
     "output_type": "stream",
     "text": [
      "Ivan (age: 27)\n",
      "Ivan is entering Admin panel!\n",
      "Ivan created new Staff!\n"
     ]
    },
    {
     "ename": "AttributeError",
     "evalue": "'Admin' object has no attribute 'change_article'",
     "output_type": "error",
     "traceback": [
      "\u001B[0;31m---------------------------------------------------------------------------\u001B[0m",
      "\u001B[0;31mAttributeError\u001B[0m                            Traceback (most recent call last)",
      "\u001B[0;32m/var/folders/vz/0zmy1yvx26bf7m3jtclhl9_40000gn/T/ipykernel_67232/3086619855.py\u001B[0m in \u001B[0;36m<module>\u001B[0;34m\u001B[0m\n\u001B[1;32m      4\u001B[0m \u001B[0mivan\u001B[0m\u001B[0;34m.\u001B[0m\u001B[0mlogin_to_admin_panel\u001B[0m\u001B[0;34m(\u001B[0m\u001B[0;34m)\u001B[0m\u001B[0;34m\u001B[0m\u001B[0;34m\u001B[0m\u001B[0m\n\u001B[1;32m      5\u001B[0m \u001B[0mivan\u001B[0m\u001B[0;34m.\u001B[0m\u001B[0mcreate_new_staff\u001B[0m\u001B[0;34m(\u001B[0m\u001B[0;34m)\u001B[0m\u001B[0;34m\u001B[0m\u001B[0;34m\u001B[0m\u001B[0m\n\u001B[0;32m----> 6\u001B[0;31m \u001B[0mivan\u001B[0m\u001B[0;34m.\u001B[0m\u001B[0mchange_article\u001B[0m\u001B[0;34m(\u001B[0m\u001B[0;34m)\u001B[0m\u001B[0;34m\u001B[0m\u001B[0;34m\u001B[0m\u001B[0m\n\u001B[0m",
      "\u001B[0;31mAttributeError\u001B[0m: 'Admin' object has no attribute 'change_article'"
     ]
    }
   ],
   "source": [
    "ivan = Admin(\"Ivan\", 27)\n",
    "\n",
    "ivan.print_info()\n",
    "ivan.login_to_admin_panel()\n",
    "ivan.create_new_staff()\n",
    "ivan.change_article()"
   ],
   "metadata": {
    "collapsed": false,
    "pycharm": {
     "name": "#%%\n"
    }
   }
  }
 ],
 "metadata": {
  "kernelspec": {
   "display_name": "Python 3",
   "language": "python",
   "name": "python3"
  },
  "language_info": {
   "codemirror_mode": {
    "name": "ipython",
    "version": 2
   },
   "file_extension": ".py",
   "mimetype": "text/x-python",
   "name": "python",
   "nbconvert_exporter": "python",
   "pygments_lexer": "ipython2",
   "version": "2.7.6"
  }
 },
 "nbformat": 4,
 "nbformat_minor": 0
}