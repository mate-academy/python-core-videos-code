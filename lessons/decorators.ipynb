{
 "cells": [
  {
   "cell_type": "code",
   "execution_count": 34,
   "outputs": [
    {
     "name": "stdout",
     "output_type": "stream",
     "text": [
      "Article 'Hello, World!' was posted\n",
      "Article 'Hello, Dania!' was posted\n",
      "Release 'v1' was posted\n"
     ]
    }
   ],
   "source": [
    "user = \"admin\"\n",
    "\n",
    "def post_article(text: str) -> None:\n",
    "    if user == \"admin\":\n",
    "        print(f\"Article '{text}' was posted\")\n",
    "    else:\n",
    "        print(\"You don't have access to post articles!\")\n",
    "\n",
    "\n",
    "def post_release(text: str) -> None:\n",
    "    if user == \"admin\":\n",
    "        print(f\"Release '{text}' was posted\")\n",
    "    else:\n",
    "        print(\"You don't have access to post articles!\")\n",
    "\n",
    "\n",
    "post_article(\"Hello, World!\")\n",
    "\n",
    "post_article(\"Hello, Dania!\")\n",
    "\n",
    "post_release(\"v1\")"
   ],
   "metadata": {
    "collapsed": false,
    "pycharm": {
     "name": "#%%\n"
    }
   }
  },
  {
   "cell_type": "code",
   "execution_count": 43,
   "outputs": [
    {
     "name": "stdout",
     "output_type": "stream",
     "text": [
      "Article 'Hello, World!' was posted\n",
      "Article 'Hello, Dania!' was posted\n",
      "Release 'v1' was posted\n"
     ]
    }
   ],
   "source": [
    "user = \"admin\"\n",
    "\n",
    "def admin_required(action):\n",
    "    def inner(*args, **kwargs):\n",
    "        if user == \"admin\":\n",
    "            action(*args, **kwargs)\n",
    "        else:\n",
    "            print(\"You don't have access to post articles!\")\n",
    "\n",
    "    return inner\n",
    "\n",
    "@admin_required\n",
    "def post_article(text: str) -> None:\n",
    "    print(f\"Article '{text}' was posted\")\n",
    "\n",
    "@admin_required\n",
    "def post_release(text: str) -> None:\n",
    "    print(f\"Release '{text}' was posted\")\n",
    "\n",
    "\n",
    "post_article(\"Hello, World!\")\n",
    "\n",
    "post_article(\"Hello, Dania!\")\n",
    "\n",
    "post_release(\"v1\")"
   ],
   "metadata": {
    "collapsed": false,
    "pycharm": {
     "name": "#%%\n"
    }
   }
  },
  {
   "cell_type": "code",
   "execution_count": 44,
   "outputs": [
    {
     "data": {
      "text/plain": "120000000"
     },
     "execution_count": 44,
     "metadata": {},
     "output_type": "execute_result"
    }
   ],
   "source": [
    "def very_slow_function():\n",
    "    i = 0\n",
    "    for _ in range(40000000):\n",
    "        i += 3\n",
    "\n",
    "    return i\n",
    "\n",
    "\n",
    "very_slow_function()"
   ],
   "metadata": {
    "collapsed": false,
    "pycharm": {
     "name": "#%%\n"
    }
   }
  },
  {
   "cell_type": "code",
   "execution_count": 45,
   "outputs": [
    {
     "name": "stdout",
     "output_type": "stream",
     "text": [
      "Time elapsed: 1.19s\n",
      "120000000\n"
     ]
    }
   ],
   "source": [
    "import time\n",
    "\n",
    "start_time = time.time()\n",
    "\n",
    "result = very_slow_function()\n",
    "\n",
    "end_time = time.time()\n",
    "print(f\"Time elapsed: {end_time - start_time:.2f}s\")\n",
    "print(result)"
   ],
   "metadata": {
    "collapsed": false,
    "pycharm": {
     "name": "#%%\n"
    }
   }
  },
  {
   "cell_type": "code",
   "execution_count": 46,
   "outputs": [
    {
     "name": "stdout",
     "output_type": "stream",
     "text": [
      "Release 'Hello, world!' was posted\n",
      "Time elapsed: 0.00s\n",
      "None\n"
     ]
    }
   ],
   "source": [
    "start_time = time.time()\n",
    "\n",
    "result = post_release(\"Hello, world!\")\n",
    "\n",
    "end_time = time.time()\n",
    "print(f\"Time elapsed: {end_time - start_time:.2f}s\")\n",
    "print(result)"
   ],
   "metadata": {
    "collapsed": false,
    "pycharm": {
     "name": "#%%\n"
    }
   }
  },
  {
   "cell_type": "code",
   "execution_count": 47,
   "outputs": [
    {
     "name": "stdout",
     "output_type": "stream",
     "text": [
      "Time elapsed: 1.18s\n"
     ]
    },
    {
     "data": {
      "text/plain": "120000000"
     },
     "execution_count": 47,
     "metadata": {},
     "output_type": "execute_result"
    }
   ],
   "source": [
    "def timer(func):\n",
    "    def inner(*args, **kwargs):\n",
    "        start = time.time()\n",
    "\n",
    "        res = func(*args, **kwargs)\n",
    "\n",
    "        end = time.time()\n",
    "        print(f\"Time elapsed: {end - start:.2f}s\")\n",
    "\n",
    "        return res\n",
    "    return inner\n",
    "\n",
    "@timer\n",
    "def very_slow_function():\n",
    "    i = 0\n",
    "    for _ in range(40000000):\n",
    "        i += 3\n",
    "\n",
    "    return i\n",
    "\n",
    "very_slow_function()"
   ],
   "metadata": {
    "collapsed": false,
    "pycharm": {
     "name": "#%%\n"
    }
   }
  }
 ],
 "metadata": {
  "kernelspec": {
   "display_name": "Python 3",
   "language": "python",
   "name": "python3"
  },
  "language_info": {
   "codemirror_mode": {
    "name": "ipython",
    "version": 2
   },
   "file_extension": ".py",
   "mimetype": "text/x-python",
   "name": "python",
   "nbconvert_exporter": "python",
   "pygments_lexer": "ipython2",
   "version": "2.7.6"
  }
 },
 "nbformat": 4,
 "nbformat_minor": 0
}