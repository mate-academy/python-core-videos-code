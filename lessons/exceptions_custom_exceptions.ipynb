{
 "cells": [
  {
   "cell_type": "code",
   "execution_count": 152,
   "outputs": [
    {
     "ename": "CustomError",
     "evalue": "Hello from CustomError",
     "output_type": "error",
     "traceback": [
      "\u001B[0;31m---------------------------------------------------------------------------\u001B[0m",
      "\u001B[0;31mCustomError\u001B[0m                               Traceback (most recent call last)",
      "\u001B[0;32m/var/folders/vz/0zmy1yvx26bf7m3jtclhl9_40000gn/T/ipykernel_19217/3634238605.py\u001B[0m in \u001B[0;36m<module>\u001B[0;34m\u001B[0m\n\u001B[1;32m      3\u001B[0m     \u001B[0;32mpass\u001B[0m\u001B[0;34m\u001B[0m\u001B[0;34m\u001B[0m\u001B[0m\n\u001B[1;32m      4\u001B[0m \u001B[0;34m\u001B[0m\u001B[0m\n\u001B[0;32m----> 5\u001B[0;31m \u001B[0;32mraise\u001B[0m \u001B[0mCustomError\u001B[0m\u001B[0;34m(\u001B[0m\u001B[0;34m\"Hello from CustomError\"\u001B[0m\u001B[0;34m)\u001B[0m\u001B[0;34m\u001B[0m\u001B[0;34m\u001B[0m\u001B[0m\n\u001B[0m",
      "\u001B[0;31mCustomError\u001B[0m: Hello from CustomError"
     ]
    }
   ],
   "source": [
    "class CustomError(Exception):\n",
    "    \"\"\"Our CustomError exception\"\"\"\n",
    "\n",
    "raise CustomError(\"Hello from CustomError\")"
   ],
   "metadata": {
    "collapsed": false,
    "pycharm": {
     "name": "#%%\n"
    }
   }
  },
  {
   "cell_type": "code",
   "execution_count": 154,
   "outputs": [],
   "source": [
    "event = \"custoerror\"\n",
    "\n",
    "try:\n",
    "    if event == \"custom error\":\n",
    "        raise CustomError(\"Raising & Handling CustomError!\")\n",
    "except CustomError as e:\n",
    "    print(e)"
   ],
   "metadata": {
    "collapsed": false,
    "pycharm": {
     "name": "#%%\n"
    }
   }
  },
  {
   "cell_type": "code",
   "execution_count": 164,
   "outputs": [
    {
     "name": "stdout",
     "output_type": "stream",
     "text": [
      "Handled error:\n",
      "4 is too small\n"
     ]
    }
   ],
   "source": [
    "class ValueTooBigError(CustomError):\n",
    "    \"\"\"This exception will be raised when value is > 10\"\"\"\n",
    "\n",
    "class ValueTooSmallError(CustomError):\n",
    "    \"\"\"This exception will be raised when value is < 5\"\"\"\n",
    "\n",
    "\n",
    "value = 4\n",
    "\n",
    "try:\n",
    "    if value > 10:\n",
    "        raise ValueTooBigError(f\"{value} is too big\")\n",
    "    if value < 5:\n",
    "        raise ValueTooSmallError(f\"{value} is too small\")\n",
    "\n",
    "    print(f\"value {value} is ok!\")\n",
    "except CustomError as e:\n",
    "    print(\"Handled error:\")\n",
    "    print(e)"
   ],
   "metadata": {
    "collapsed": false,
    "pycharm": {
     "name": "#%%\n"
    }
   }
  },
  {
   "cell_type": "code",
   "execution_count": 166,
   "outputs": [
    {
     "ename": "ValueTooBigErrorCustomizedError",
     "evalue": "Hello",
     "output_type": "error",
     "traceback": [
      "\u001B[0;31m---------------------------------------------------------------------------\u001B[0m",
      "\u001B[0;31mValueTooBigErrorCustomizedError\u001B[0m           Traceback (most recent call last)",
      "\u001B[0;32m/var/folders/vz/0zmy1yvx26bf7m3jtclhl9_40000gn/T/ipykernel_19217/1332266866.py\u001B[0m in \u001B[0;36m<module>\u001B[0;34m\u001B[0m\n\u001B[1;32m      7\u001B[0m \u001B[0;34m\u001B[0m\u001B[0m\n\u001B[1;32m      8\u001B[0m \u001B[0;32mif\u001B[0m \u001B[0mvalue\u001B[0m \u001B[0;34m>\u001B[0m \u001B[0;36m10\u001B[0m\u001B[0;34m:\u001B[0m\u001B[0;34m\u001B[0m\u001B[0;34m\u001B[0m\u001B[0m\n\u001B[0;32m----> 9\u001B[0;31m     \u001B[0;32mraise\u001B[0m \u001B[0mValueTooBigErrorCustomizedError\u001B[0m\u001B[0;34m(\u001B[0m\u001B[0;34m\"Hello\"\u001B[0m\u001B[0;34m)\u001B[0m\u001B[0;34m\u001B[0m\u001B[0;34m\u001B[0m\u001B[0m\n\u001B[0m",
      "\u001B[0;31mValueTooBigErrorCustomizedError\u001B[0m: Hello"
     ]
    }
   ],
   "source": [
    "class ValueTooBigErrorCustomizedError(Exception):\n",
    "    \"\"\"This customized exception will be raised when value is > 10\"\"\"\n",
    "    def __init__(self, message=\"Value should be <= 10\"):\n",
    "        super().__init__(message)\n",
    "\n",
    "value = 12\n",
    "\n",
    "if value > 10:\n",
    "    raise ValueTooBigErrorCustomizedError(\"Hello\")"
   ],
   "metadata": {
    "collapsed": false,
    "pycharm": {
     "name": "#%%\n"
    }
   }
  }
 ],
 "metadata": {
  "kernelspec": {
   "display_name": "Python 3",
   "language": "python",
   "name": "python3"
  },
  "language_info": {
   "codemirror_mode": {
    "name": "ipython",
    "version": 2
   },
   "file_extension": ".py",
   "mimetype": "text/x-python",
   "name": "python",
   "nbconvert_exporter": "python",
   "pygments_lexer": "ipython2",
   "version": "2.7.6"
  }
 },
 "nbformat": 4,
 "nbformat_minor": 0
}