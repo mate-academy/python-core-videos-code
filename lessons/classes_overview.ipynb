{
 "cells": [
  {
   "cell_type": "code",
   "execution_count": 1,
   "outputs": [],
   "source": [
    "first_name1 = \"Dania\"\n",
    "last_name1 = \"Tiutiushkin\"\n",
    "age1 = 20\n",
    "\n",
    "first_name2 = \"John\"\n",
    "last_name2 = \"Smith\"\n",
    "age2 = 25"
   ],
   "metadata": {
    "collapsed": false,
    "pycharm": {
     "name": "#%%\n"
    }
   }
  },
  {
   "cell_type": "code",
   "execution_count": 2,
   "outputs": [],
   "source": [
    "def print_user(first_name: str, last_name: str, age: int):\n",
    "    print(f\"User {first_name} {last_name} (age={age})\")"
   ],
   "metadata": {
    "collapsed": false,
    "pycharm": {
     "name": "#%%\n"
    }
   }
  },
  {
   "cell_type": "code",
   "execution_count": 4,
   "outputs": [
    {
     "name": "stdout",
     "output_type": "stream",
     "text": [
      "User Dania Tiutiushkin (age=20)\n",
      "User John Smith (age=25)\n"
     ]
    }
   ],
   "source": [
    "print_user(first_name1, last_name1, age1)\n",
    "print_user(first_name2, last_name2, age2)"
   ],
   "metadata": {
    "collapsed": false,
    "pycharm": {
     "name": "#%%\n"
    }
   }
  },
  {
   "cell_type": "code",
   "execution_count": 5,
   "outputs": [],
   "source": [
    "user1 = {\n",
    "    \"first_name\": \"Dania\",\n",
    "    \"last_name\": \"Tiutiushkin\",\n",
    "    \"age\": 20\n",
    "}\n",
    "\n",
    "user2 = {\n",
    "    \"first_name\": \"John\",\n",
    "    \"last_name\": \"Smith\",\n",
    "    \"age\": 25\n",
    "}"
   ],
   "metadata": {
    "collapsed": false,
    "pycharm": {
     "name": "#%%\n"
    }
   }
  },
  {
   "cell_type": "code",
   "execution_count": 6,
   "outputs": [],
   "source": [
    "def print_user_info(user: dict):\n",
    "    print(f\"User {user['first_name']} {user['last_name']} (age={user['age']})\")"
   ],
   "metadata": {
    "collapsed": false,
    "pycharm": {
     "name": "#%%\n"
    }
   }
  },
  {
   "cell_type": "code",
   "execution_count": 7,
   "outputs": [
    {
     "name": "stdout",
     "output_type": "stream",
     "text": [
      "User Dania Tiutiushkin (age=20)\n",
      "User John Smith (age=25)\n"
     ]
    }
   ],
   "source": [
    "print_user_info(user1)\n",
    "print_user_info(user2)"
   ],
   "metadata": {
    "collapsed": false,
    "pycharm": {
     "name": "#%%\n"
    }
   }
  },
  {
   "cell_type": "code",
   "execution_count": 8,
   "outputs": [
    {
     "name": "stdout",
     "output_type": "stream",
     "text": [
      "Dania\n",
      "Tiutiushkin\n",
      "20\n"
     ]
    }
   ],
   "source": [
    "print(user1[\"first_name\"])\n",
    "print(user1[\"last_name\"])\n",
    "print(user1[\"age\"])"
   ],
   "metadata": {
    "collapsed": false,
    "pycharm": {
     "name": "#%%\n"
    }
   }
  },
  {
   "cell_type": "code",
   "execution_count": 9,
   "outputs": [],
   "source": [
    "class User:\n",
    "    def __init__(self, first_name: str, last_name: str, age: int):\n",
    "        self.first_name = first_name\n",
    "        self.last_name = last_name\n",
    "        self.age = age\n",
    "\n",
    "    def print_info(self):\n",
    "        print(f\"User {self.first_name} {self.last_name} (age={self.age})\")\n",
    "\n",
    "user1 = User(\n",
    "    first_name=\"Dania\",\n",
    "    last_name=\"Tiutiushkin\",\n",
    "    age=20\n",
    ")\n",
    "\n",
    "user2 = User(\n",
    "    first_name=\"John\",\n",
    "    last_name=\"Smith\",\n",
    "    age=25\n",
    ")"
   ],
   "metadata": {
    "collapsed": false,
    "pycharm": {
     "name": "#%%\n"
    }
   }
  },
  {
   "cell_type": "code",
   "execution_count": 10,
   "outputs": [
    {
     "name": "stdout",
     "output_type": "stream",
     "text": [
      "User Dania Tiutiushkin (age=20)\n",
      "User John Smith (age=25)\n"
     ]
    }
   ],
   "source": [
    "user1.print_info()\n",
    "user2.print_info()"
   ],
   "metadata": {
    "collapsed": false,
    "pycharm": {
     "name": "#%%\n"
    }
   }
  },
  {
   "cell_type": "code",
   "execution_count": 11,
   "outputs": [
    {
     "name": "stdout",
     "output_type": "stream",
     "text": [
      "Dania\n",
      "Tiutiushkin\n",
      "20\n"
     ]
    }
   ],
   "source": [
    "print(user1.first_name)\n",
    "print(user1.last_name)\n",
    "print(user1.age)\n"
   ],
   "metadata": {
    "collapsed": false,
    "pycharm": {
     "name": "#%%\n"
    }
   }
  }
 ],
 "metadata": {
  "kernelspec": {
   "display_name": "Python 3",
   "language": "python",
   "name": "python3"
  },
  "language_info": {
   "codemirror_mode": {
    "name": "ipython",
    "version": 2
   },
   "file_extension": ".py",
   "mimetype": "text/x-python",
   "name": "python",
   "nbconvert_exporter": "python",
   "pygments_lexer": "ipython2",
   "version": "2.7.6"
  }
 },
 "nbformat": 4,
 "nbformat_minor": 0
}