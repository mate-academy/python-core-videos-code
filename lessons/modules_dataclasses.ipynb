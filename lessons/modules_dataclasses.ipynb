{
 "cells": [
  {
   "cell_type": "code",
   "execution_count": null,
   "outputs": [],
   "source": [
    "import dataclasses"
   ],
   "metadata": {
    "collapsed": false,
    "pycharm": {
     "name": "#%%\n"
    }
   }
  },
  {
   "cell_type": "code",
   "execution_count": null,
   "outputs": [],
   "source": [
    "class User:\n",
    "    def __init__(self, name: str, surname: str, age: int):\n",
    "        self.name = name\n",
    "        self.surname = surname\n",
    "        self.age = age"
   ],
   "metadata": {
    "collapsed": false,
    "pycharm": {
     "name": "#%%\n"
    }
   }
  },
  {
   "cell_type": "code",
   "execution_count": null,
   "outputs": [],
   "source": [
    "@dataclasses.dataclass\n",
    "class User:\n",
    "    name: str\n",
    "    surname: str\n",
    "    age: int"
   ],
   "metadata": {
    "collapsed": false,
    "pycharm": {
     "name": "#%%\n"
    }
   }
  },
  {
   "cell_type": "code",
   "execution_count": null,
   "outputs": [],
   "source": [
    "from dataclasses import dataclass\n",
    "from typing import List\n",
    "\n",
    "@dataclass\n",
    "class Book:\n",
    "    name: str\n",
    "    author: str\n",
    "\n",
    "@dataclass\n",
    "class BookShelf:\n",
    "    books: List[Book]\n",
    "\n",
    "\n",
    "book_shelf = BookShelf([Book(\"Harry Potter\", \"J. K. Rowling\")])"
   ],
   "metadata": {
    "collapsed": false,
    "pycharm": {
     "name": "#%%\n"
    }
   }
  },
  {
   "cell_type": "code",
   "execution_count": 77,
   "outputs": [
    {
     "data": {
      "text/plain": "mappingproxy({'__module__': '__main__',\n              '__annotations__': {'name': str, 'author': str},\n              'info': 'hello',\n              'author': 'Unknown',\n              'from_dict': <classmethod at 0x104ddb340>,\n              '__dict__': <attribute '__dict__' of 'Book' objects>,\n              '__weakref__': <attribute '__weakref__' of 'Book' objects>,\n              '__doc__': \"Book(name: str, author: str = 'Unknown')\",\n              '__dataclass_params__': _DataclassParams(init=True,repr=True,eq=True,order=False,unsafe_hash=False,frozen=False),\n              '__dataclass_fields__': {'name': Field(name='name',type=<class 'str'>,default=<dataclasses._MISSING_TYPE object at 0x104436550>,default_factory=<dataclasses._MISSING_TYPE object at 0x104436550>,init=True,repr=True,hash=None,compare=True,metadata=mappingproxy({}),_field_type=_FIELD),\n               'author': Field(name='author',type=<class 'str'>,default='Unknown',default_factory=<dataclasses._MISSING_TYPE object at 0x104436550>,init=True,repr=True,hash=None,compare=True,metadata=mappingproxy({}),_field_type=_FIELD)},\n              '__init__': <function __main__.__create_fn__.<locals>.__init__(self, name: str, author: str = 'Unknown') -> None>,\n              '__repr__': <function __main__.__create_fn__.<locals>.__repr__(self)>,\n              '__eq__': <function __main__.__create_fn__.<locals>.__eq__(self, other)>,\n              '__hash__': None})"
     },
     "execution_count": 77,
     "metadata": {},
     "output_type": "execute_result"
    }
   ],
   "source": [
    "@dataclass\n",
    "class Book:\n",
    "    name: str\n",
    "    author: str = \"Unknown\"\n",
    "\n",
    "    @classmethod\n",
    "    def from_dict(cls, data: dict):\n",
    "        return cls(\n",
    "\n",
    "        )\n",
    "dict\n",
    "book = Book(\"Harry Potter\")\n",
    "book.__dict__\n",
    "Book.__dict__"
   ],
   "metadata": {
    "collapsed": false,
    "pycharm": {
     "name": "#%%\n"
    }
   }
  }
 ],
 "metadata": {
  "kernelspec": {
   "display_name": "Python 3",
   "language": "python",
   "name": "python3"
  },
  "language_info": {
   "codemirror_mode": {
    "name": "ipython",
    "version": 2
   },
   "file_extension": ".py",
   "mimetype": "text/x-python",
   "name": "python",
   "nbconvert_exporter": "python",
   "pygments_lexer": "ipython2",
   "version": "2.7.6"
  }
 },
 "nbformat": 4,
 "nbformat_minor": 0
}