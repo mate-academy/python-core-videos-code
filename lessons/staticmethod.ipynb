{
 "cells": [
  {
   "cell_type": "code",
   "execution_count": 130,
   "outputs": [],
   "source": [
    "class Car:\n",
    "    def __init__(self, max_speed_km: int):\n",
    "        self.max_speed_km = max_speed_km\n",
    "\n",
    "    def print_max_speed_km(self):\n",
    "        print(f\"Car's maximum speed is {self.max_speed_km} km/h\")\n",
    "\n",
    "    def print_max_speed_miles(self):\n",
    "        print(f\"Car's maximum speed is {self.km_to_miles(self.max_speed_km)} miles/h\")\n",
    "\n",
    "    @staticmethod\n",
    "    def km_to_miles(km: int) -> float:\n",
    "        # 1 km = 0.62137119 miles\n",
    "        return round(km * 0.62137119, 2)\n",
    "\n",
    "tesla_roadster = Car(max_speed_km=400)"
   ],
   "metadata": {
    "collapsed": false,
    "pycharm": {
     "name": "#%%\n"
    }
   }
  },
  {
   "cell_type": "code",
   "execution_count": 131,
   "outputs": [
    {
     "name": "stdout",
     "output_type": "stream",
     "text": [
      "Car's maximum speed is 400 km/h\n"
     ]
    }
   ],
   "source": [
    "tesla_roadster.print_max_speed_km()"
   ],
   "metadata": {
    "collapsed": false,
    "pycharm": {
     "name": "#%%\n"
    }
   }
  },
  {
   "cell_type": "code",
   "execution_count": 132,
   "outputs": [
    {
     "name": "stdout",
     "output_type": "stream",
     "text": [
      "Car's maximum speed is 248.55 miles/h\n"
     ]
    }
   ],
   "source": [
    "tesla_roadster.print_max_speed_miles()"
   ],
   "metadata": {
    "collapsed": false,
    "pycharm": {
     "name": "#%%\n"
    }
   }
  },
  {
   "cell_type": "code",
   "execution_count": null,
   "outputs": [],
   "source": [],
   "metadata": {
    "collapsed": false,
    "pycharm": {
     "name": "#%%\n"
    }
   }
  }
 ],
 "metadata": {
  "kernelspec": {
   "display_name": "Python 3",
   "language": "python",
   "name": "python3"
  },
  "language_info": {
   "codemirror_mode": {
    "name": "ipython",
    "version": 2
   },
   "file_extension": ".py",
   "mimetype": "text/x-python",
   "name": "python",
   "nbconvert_exporter": "python",
   "pygments_lexer": "ipython2",
   "version": "2.7.6"
  }
 },
 "nbformat": 4,
 "nbformat_minor": 0
}