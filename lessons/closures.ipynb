{
 "cells": [
  {
   "cell_type": "code",
   "execution_count": 19,
   "outputs": [
    {
     "name": "stdout",
     "output_type": "stream",
     "text": [
      "Hello\n"
     ]
    }
   ],
   "source": [
    "def print_msg(msg):\n",
    "    # outer enclosing function\n",
    "\n",
    "    def printer():\n",
    "        # nested function\n",
    "        print(msg)\n",
    "\n",
    "    printer()\n",
    "\n",
    "print_msg(\"Hello\")"
   ],
   "metadata": {
    "collapsed": false,
    "pycharm": {
     "name": "#%%\n"
    }
   }
  },
  {
   "cell_type": "code",
   "execution_count": 22,
   "outputs": [
    {
     "name": "stdout",
     "output_type": "stream",
     "text": [
      "Hello\n"
     ]
    }
   ],
   "source": [
    "def print_msg(msg):\n",
    "    # outer enclosing function\n",
    "\n",
    "    def printer():\n",
    "        # nested function\n",
    "        print(msg)\n",
    "\n",
    "    return printer  # return nested function\n",
    "\n",
    "\n",
    "another = print_msg(\"Hello\")\n",
    "another()"
   ],
   "metadata": {
    "collapsed": false,
    "pycharm": {
     "name": "#%%\n"
    }
   }
  },
  {
   "cell_type": "code",
   "execution_count": 25,
   "outputs": [
    {
     "name": "stdout",
     "output_type": "stream",
     "text": [
      "27\n",
      "15\n",
      "30\n"
     ]
    }
   ],
   "source": [
    "def make_multiplier_of(n):\n",
    "\n",
    "    def multiplier(x):\n",
    "        return x * n\n",
    "\n",
    "    return multiplier\n",
    "\n",
    "\n",
    "times3 = make_multiplier_of(3)\n",
    "\n",
    "times5 = make_multiplier_of(5)\n",
    "\n",
    "print(times3(9))\n",
    "\n",
    "print(times5(3))\n",
    "\n",
    "print(times5(times3(2)))"
   ],
   "metadata": {
    "collapsed": false,
    "pycharm": {
     "name": "#%%\n"
    }
   }
  }
 ],
 "metadata": {
  "kernelspec": {
   "display_name": "Python 3",
   "language": "python",
   "name": "python3"
  },
  "language_info": {
   "codemirror_mode": {
    "name": "ipython",
    "version": 2
   },
   "file_extension": ".py",
   "mimetype": "text/x-python",
   "name": "python",
   "nbconvert_exporter": "python",
   "pygments_lexer": "ipython2",
   "version": "2.7.6"
  }
 },
 "nbformat": 4,
 "nbformat_minor": 0
}