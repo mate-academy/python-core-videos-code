{
 "cells": [
  {
   "cell_type": "code",
   "execution_count": 1,
   "outputs": [
    {
     "data": {
      "text/plain": "792"
     },
     "execution_count": 1,
     "metadata": {},
     "output_type": "execute_result"
    }
   ],
   "source": [
    "def sum_if_3_in_num() -> int:\n",
    "    \"\"\"\n",
    "    Find the sum of all numbers in the range\n",
    "    from 0 to 99 in which there is a digit 3\n",
    "    Ex: 3, 13, 23 ...\n",
    "    P.S: correct answer is '792'\n",
    "    \"\"\"\n",
    "    return sum([num for num in range(100) if \"3\" in str(num)])\n",
    "\n",
    "sum_if_3_in_num()"
   ],
   "metadata": {
    "collapsed": false,
    "pycharm": {
     "name": "#%%\n"
    }
   }
  },
  {
   "cell_type": "code",
   "execution_count": 3,
   "outputs": [
    {
     "data": {
      "text/plain": "'STRING CONTAINS'"
     },
     "execution_count": 3,
     "metadata": {},
     "output_type": "execute_result"
    }
   ],
   "source": [
    "def make_uppercase_long_words(words: str) -> str:\n",
    "    \"\"\"\n",
    "    Return all words, which have len > 5 in uppercase.\n",
    "\n",
    "    :param words: Ex. \"This string contains small and long words\"\n",
    "    :return: Ex. \"STRING CONTAINS\"\n",
    "    \"\"\"\n",
    "    return \" \".join(\n",
    "        [\n",
    "            word.upper()\n",
    "            for word in words.split()\n",
    "            if len(word) > 5\n",
    "        ]\n",
    "    )\n",
    "\n",
    "make_uppercase_long_words(\"This string contains small and long words\")"
   ],
   "metadata": {
    "collapsed": false,
    "pycharm": {
     "name": "#%%\n"
    }
   }
  },
  {
   "cell_type": "code",
   "execution_count": 6,
   "outputs": [
    {
     "name": "stdout",
     "output_type": "stream",
     "text": [
      "{'Wednesday', 'Thursday', 'Monday', 'Tuesday', 'Friday'}\n"
     ]
    },
    {
     "data": {
      "text/plain": "{'Wednesday': 4, 'Thursday': 2, 'Monday': 3, 'Tuesday': 3, 'Friday': 4}"
     },
     "execution_count": 6,
     "metadata": {},
     "output_type": "execute_result"
    }
   ],
   "source": [
    "johns_attendance = [\n",
    "    [\"Monday\", \"Tuesday\", \"Wednesday\", \"Friday\"],\n",
    "    [\"Tuesday\", \"Wednesday\", \"Thursday\", \"Friday\"],\n",
    "    [\"Monday\", \"Tuesday\", \"Wednesday\", \"Thursday\", \"Friday\"],\n",
    "    [\"Monday\", \"Wednesday\", \"Friday\"],\n",
    "]\n",
    "\n",
    "\n",
    "def get_count_attendance_by_day_of_week(attendance: list) -> dict:\n",
    "    \"\"\"\n",
    "    :param attendance: Ex: johns_attendance\n",
    "    :return: {\"Monday\": 3, \"Wednesday\": 4...}\n",
    "    \"\"\"\n",
    "    return {\n",
    "        day_of_week: sum(attendance, []).count(day_of_week)\n",
    "        for day_of_week in set(sum(attendance, []))\n",
    "    }\n",
    "\n",
    "print(set(sum(johns_attendance, [])))\n",
    "\n",
    "get_count_attendance_by_day_of_week(johns_attendance)"
   ],
   "metadata": {
    "collapsed": false,
    "pycharm": {
     "name": "#%%\n"
    }
   }
  },
  {
   "cell_type": "code",
   "execution_count": null,
   "outputs": [],
   "source": [],
   "metadata": {
    "collapsed": false,
    "pycharm": {
     "name": "#%%\n"
    }
   }
  }
 ],
 "metadata": {
  "kernelspec": {
   "display_name": "Python 3",
   "language": "python",
   "name": "python3"
  },
  "language_info": {
   "codemirror_mode": {
    "name": "ipython",
    "version": 2
   },
   "file_extension": ".py",
   "mimetype": "text/x-python",
   "name": "python",
   "nbconvert_exporter": "python",
   "pygments_lexer": "ipython2",
   "version": "2.7.6"
  }
 },
 "nbformat": 4,
 "nbformat_minor": 0
}