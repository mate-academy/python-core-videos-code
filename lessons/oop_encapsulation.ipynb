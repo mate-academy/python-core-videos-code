{
 "cells": [
  {
   "cell_type": "code",
   "execution_count": 1,
   "outputs": [],
   "source": [
    "# Encapsulation\n",
    "\n",
    "class Product:\n",
    "    def __init__(\n",
    "        self,\n",
    "        name: str,\n",
    "        price: int,\n",
    "        last_customer_rating: float = None\n",
    "    ):\n",
    "        self.name = name\n",
    "        self.price = price\n",
    "        self.last_customer_rating = last_customer_rating\n",
    "\n",
    "    def print_product_info(self):\n",
    "        print(\n",
    "            f\"The {self.name} price is {self.price}\"\n",
    "            f\" (rating: {self.last_customer_rating})\"\n",
    "        )\n",
    "\n",
    "book = Product(\"Book\", 50)"
   ],
   "metadata": {
    "collapsed": false,
    "pycharm": {
     "name": "#%%\n"
    }
   }
  },
  {
   "cell_type": "code",
   "execution_count": 44,
   "outputs": [
    {
     "name": "stdout",
     "output_type": "stream",
     "text": [
      "The Book price is 50 (rating: 4.5)\n"
     ]
    }
   ],
   "source": [
    "# customer do:\n",
    "\n",
    "book.last_customer_rating = 4.5\n",
    "book.print_product_info()"
   ],
   "metadata": {
    "collapsed": false,
    "pycharm": {
     "name": "#%%\n"
    }
   }
  },
  {
   "cell_type": "code",
   "execution_count": 45,
   "outputs": [
    {
     "name": "stdout",
     "output_type": "stream",
     "text": [
      "The Book Cheated price is 0 (rating: 4.5)\n"
     ]
    }
   ],
   "source": [
    "# cheater customer do:\n",
    "\n",
    "book.name = \"Book Cheated\"\n",
    "book.price = 0\n",
    "\n",
    "book.print_product_info()"
   ],
   "metadata": {
    "collapsed": false,
    "pycharm": {
     "name": "#%%\n"
    }
   }
  },
  {
   "cell_type": "code",
   "execution_count": 5,
   "outputs": [],
   "source": [
    "class Product:\n",
    "    def __init__(\n",
    "        self,\n",
    "        name: str,\n",
    "        price: int,\n",
    "        last_customer_rating: float = None\n",
    "    ):\n",
    "        self.__name = name\n",
    "        self.__price = price\n",
    "        self.last_customer_rating = last_customer_rating\n",
    "\n",
    "    def print_product_info(self):\n",
    "        print(\n",
    "            f\"The {self.__name} price is {self.__price}\"\n",
    "            f\" (rating: {self.last_customer_rating})\"\n",
    "        )\n",
    "\n",
    "book_secure = Product(\"Book\", 50)"
   ],
   "metadata": {
    "collapsed": false,
    "pycharm": {
     "name": "#%%\n"
    }
   }
  },
  {
   "cell_type": "code",
   "execution_count": 6,
   "outputs": [
    {
     "name": "stdout",
     "output_type": "stream",
     "text": [
      "The Book price is 50 (rating: 4.3)\n"
     ]
    }
   ],
   "source": [
    "book_secure.last_customer_rating = 4.3\n",
    "book_secure.print_product_info()"
   ],
   "metadata": {
    "collapsed": false,
    "pycharm": {
     "name": "#%%\n"
    }
   }
  },
  {
   "cell_type": "code",
   "execution_count": 10,
   "outputs": [
    {
     "name": "stdout",
     "output_type": "stream",
     "text": [
      "The Book price is 50 (rating: 4.3)\n"
     ]
    }
   ],
   "source": [
    "book_secure.__name = \"Book Cheated\"\n",
    "book_secure.__price = 0\n",
    "book_secure.print_product_info()"
   ],
   "metadata": {
    "collapsed": false,
    "pycharm": {
     "name": "#%%\n"
    }
   }
  },
  {
   "cell_type": "code",
   "execution_count": 12,
   "outputs": [
    {
     "data": {
      "text/plain": "{'_Product__name': 'Book',\n '_Product__price': 50,\n 'last_customer_rating': 4.3,\n 'name': 'Book Cheated',\n '__name': 'Book Cheated',\n '__price': 0}"
     },
     "execution_count": 12,
     "metadata": {},
     "output_type": "execute_result"
    }
   ],
   "source": [
    "book_secure.__dict__"
   ],
   "metadata": {
    "collapsed": false,
    "pycharm": {
     "name": "#%%\n"
    }
   }
  },
  {
   "cell_type": "code",
   "execution_count": 13,
   "outputs": [
    {
     "name": "stdout",
     "output_type": "stream",
     "text": [
      "The Book Cheated Finally price is -1 (rating: 4.3)\n"
     ]
    }
   ],
   "source": [
    "book_secure._Product__name = \"Book Cheated Finally\"\n",
    "book_secure._Product__price = -1\n",
    "book_secure.print_product_info()"
   ],
   "metadata": {
    "collapsed": false,
    "pycharm": {
     "name": "#%%\n"
    }
   }
  }
 ],
 "metadata": {
  "kernelspec": {
   "display_name": "Python 3",
   "language": "python",
   "name": "python3"
  },
  "language_info": {
   "codemirror_mode": {
    "name": "ipython",
    "version": 2
   },
   "file_extension": ".py",
   "mimetype": "text/x-python",
   "name": "python",
   "nbconvert_exporter": "python",
   "pygments_lexer": "ipython2",
   "version": "2.7.6"
  }
 },
 "nbformat": 4,
 "nbformat_minor": 0
}