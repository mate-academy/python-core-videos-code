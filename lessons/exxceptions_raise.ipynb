{
 "cells": [
  {
   "cell_type": "code",
   "execution_count": 131,
   "outputs": [
    {
     "ename": "AssertionError",
     "evalue": "People under 16 are not allowed",
     "output_type": "error",
     "traceback": [
      "\u001B[0;31m---------------------------------------------------------------------------\u001B[0m",
      "\u001B[0;31mAssertionError\u001B[0m                            Traceback (most recent call last)",
      "\u001B[0;32m/var/folders/vz/0zmy1yvx26bf7m3jtclhl9_40000gn/T/ipykernel_19217/2323504386.py\u001B[0m in \u001B[0;36m<module>\u001B[0;34m\u001B[0m\n\u001B[1;32m      7\u001B[0m \u001B[0;34m\u001B[0m\u001B[0m\n\u001B[1;32m      8\u001B[0m \u001B[0;31m# try:\u001B[0m\u001B[0;34m\u001B[0m\u001B[0;34m\u001B[0m\u001B[0;34m\u001B[0m\u001B[0m\n\u001B[0;32m----> 9\u001B[0;31m get_driver_license({\n\u001B[0m\u001B[1;32m     10\u001B[0m     \u001B[0;34m\"name\"\u001B[0m\u001B[0;34m:\u001B[0m \u001B[0;34m\"John\"\u001B[0m\u001B[0;34m,\u001B[0m\u001B[0;34m\u001B[0m\u001B[0;34m\u001B[0m\u001B[0m\n\u001B[1;32m     11\u001B[0m     \u001B[0;34m\"age\"\u001B[0m\u001B[0;34m:\u001B[0m \u001B[0;36m15\u001B[0m\u001B[0;34m\u001B[0m\u001B[0;34m\u001B[0m\u001B[0m\n",
      "\u001B[0;32m/var/folders/vz/0zmy1yvx26bf7m3jtclhl9_40000gn/T/ipykernel_19217/2323504386.py\u001B[0m in \u001B[0;36mget_driver_license\u001B[0;34m(person)\u001B[0m\n\u001B[1;32m      2\u001B[0m     \u001B[0;31m# if person[\"age\"] < 16:\u001B[0m\u001B[0;34m\u001B[0m\u001B[0;34m\u001B[0m\u001B[0;34m\u001B[0m\u001B[0m\n\u001B[1;32m      3\u001B[0m     \u001B[0;31m#     raise ValueError(\"People under 16 are not allowed\")\u001B[0m\u001B[0;34m\u001B[0m\u001B[0;34m\u001B[0m\u001B[0;34m\u001B[0m\u001B[0m\n\u001B[0;32m----> 4\u001B[0;31m     \u001B[0;32massert\u001B[0m \u001B[0mperson\u001B[0m\u001B[0;34m[\u001B[0m\u001B[0;34m\"age\"\u001B[0m\u001B[0;34m]\u001B[0m \u001B[0;34m>=\u001B[0m \u001B[0;36m16\u001B[0m\u001B[0;34m,\u001B[0m \u001B[0;34m\"People under 16 are not allowed\"\u001B[0m\u001B[0;34m\u001B[0m\u001B[0;34m\u001B[0m\u001B[0m\n\u001B[0m\u001B[1;32m      5\u001B[0m \u001B[0;34m\u001B[0m\u001B[0m\n\u001B[1;32m      6\u001B[0m     \u001B[0mprint\u001B[0m\u001B[0;34m(\u001B[0m\u001B[0;34m\"Successfully got driver license!\"\u001B[0m\u001B[0;34m)\u001B[0m\u001B[0;34m\u001B[0m\u001B[0;34m\u001B[0m\u001B[0m\n",
      "\u001B[0;31mAssertionError\u001B[0m: People under 16 are not allowed"
     ]
    }
   ],
   "source": [
    "def get_driver_license(person: dict):\n",
    "    if person[\"age\"] < 16:\n",
    "        raise ValueError(\"People under 16 are not allowed\")\n",
    "    assert person[\"age\"] >= 16, \"People under 16 are not allowed\"\n",
    "\n",
    "    print(\"Successfully got driver license!\")\n",
    "\n",
    "# try:\n",
    "get_driver_license({\n",
    "    \"name\": \"John\",\n",
    "    \"age\": 15\n",
    "})\n",
    "# except Exception as e:\n",
    "#     print(e)"
   ],
   "metadata": {
    "collapsed": false,
    "pycharm": {
     "name": "#%%\n"
    }
   }
  }
 ],
 "metadata": {
  "kernelspec": {
   "display_name": "Python 3",
   "language": "python",
   "name": "python3"
  },
  "language_info": {
   "codemirror_mode": {
    "name": "ipython",
    "version": 2
   },
   "file_extension": ".py",
   "mimetype": "text/x-python",
   "name": "python",
   "nbconvert_exporter": "python",
   "pygments_lexer": "ipython2",
   "version": "2.7.6"
  }
 },
 "nbformat": 4,
 "nbformat_minor": 0
}