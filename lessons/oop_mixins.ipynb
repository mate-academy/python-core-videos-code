{
 "cells": [
  {
   "cell_type": "code",
   "execution_count": 40,
   "outputs": [],
   "source": [
    "class Transport:\n",
    "    def __init__(self, position: str):\n",
    "        self.position = position\n",
    "\n",
    "    def travel(self, destination: str):\n",
    "        print(f\"Travel from {self.position} to {destination}\")\n",
    "        self.position = destination\n",
    "\n",
    "\n",
    "class Car(Transport):\n",
    "    @staticmethod\n",
    "    def play_song_on_station(station):\n",
    "        print(f\"Play song on station {station}!\")\n",
    "\n",
    "class Boat(Transport):\n",
    "    pass\n",
    "\n",
    "class Plane(Transport):\n",
    "    pass"
   ],
   "metadata": {
    "collapsed": false,
    "pycharm": {
     "name": "#%%\n"
    }
   }
  },
  {
   "cell_type": "code",
   "execution_count": 38,
   "outputs": [
    {
     "name": "stdout",
     "output_type": "stream",
     "text": [
      "Travel from Kyiv to Lviv\n"
     ]
    }
   ],
   "source": [
    "car = Car(\"Kyiv\")\n",
    "car.travel(\"Lviv\")"
   ],
   "metadata": {
    "collapsed": false,
    "pycharm": {
     "name": "#%%\n"
    }
   }
  },
  {
   "cell_type": "code",
   "execution_count": 39,
   "outputs": [
    {
     "name": "stdout",
     "output_type": "stream",
     "text": [
      "Travel from Left bank to Right bank\n"
     ]
    }
   ],
   "source": [
    "boat = Boat(\"Left bank\")\n",
    "boat.travel(\"Right bank\")"
   ],
   "metadata": {
    "collapsed": false,
    "pycharm": {
     "name": "#%%\n"
    }
   }
  },
  {
   "cell_type": "code",
   "execution_count": 41,
   "outputs": [
    {
     "name": "stdout",
     "output_type": "stream",
     "text": [
      "Play song on station FM!\n"
     ]
    }
   ],
   "source": [
    "car.play_song_on_station(\"FM\")"
   ],
   "metadata": {
    "collapsed": false,
    "pycharm": {
     "name": "#%%\n"
    }
   }
  },
  {
   "cell_type": "code",
   "execution_count": 42,
   "outputs": [
    {
     "name": "stdout",
     "output_type": "stream",
     "text": [
      "Play song on station Radio Forever!\n"
     ]
    }
   ],
   "source": [
    "class Phone:\n",
    "    @staticmethod\n",
    "    def play_song_on_station(station):\n",
    "        print(f\"Play song on station {station}!\")\n",
    "\n",
    "phone = Phone()\n",
    "phone.play_song_on_station(\"Radio Forever\")"
   ],
   "metadata": {
    "collapsed": false,
    "pycharm": {
     "name": "#%%\n"
    }
   }
  },
  {
   "cell_type": "code",
   "execution_count": null,
   "outputs": [],
   "source": [
    "class RadioUserMixin:\n",
    "    @staticmethod\n",
    "    def play_song_on_station(station):\n",
    "        print(f\"Play song on station {station}!\")"
   ],
   "metadata": {
    "collapsed": false,
    "pycharm": {
     "name": "#%%\n"
    }
   }
  },
  {
   "cell_type": "code",
   "execution_count": 43,
   "outputs": [
    {
     "name": "stdout",
     "output_type": "stream",
     "text": [
      "Play song on station FM!\n",
      "Play song on station Radio Forever!\n"
     ]
    }
   ],
   "source": [
    "class Car(Transport, RadioUserMixin, SignalizationMixin):\n",
    "    pass\n",
    "\n",
    "class Phone(RadioUserMixin, SignalizationMixin):\n",
    "    pass\n",
    "\n",
    "class Clock(RadioUserMixin):\n",
    "    pass\n",
    "\n",
    "car = Car(\"Kyiv\")\n",
    "phone = Phone()\n",
    "\n",
    "car.play_song_on_station(\"FM\")\n",
    "phone.play_song_on_station(\"Radio Forever\")"
   ],
   "metadata": {
    "collapsed": false,
    "pycharm": {
     "name": "#%%\n"
    }
   }
  }
 ],
 "metadata": {
  "kernelspec": {
   "display_name": "Python 3",
   "language": "python",
   "name": "python3"
  },
  "language_info": {
   "codemirror_mode": {
    "name": "ipython",
    "version": 2
   },
   "file_extension": ".py",
   "mimetype": "text/x-python",
   "name": "python",
   "nbconvert_exporter": "python",
   "pygments_lexer": "ipython2",
   "version": "2.7.6"
  }
 },
 "nbformat": 4,
 "nbformat_minor": 0
}